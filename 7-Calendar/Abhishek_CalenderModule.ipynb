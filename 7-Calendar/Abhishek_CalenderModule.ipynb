{
 "cells": [
  {
   "cell_type": "code",
   "execution_count": 31,
   "metadata": {
    "collapsed": true
   },
   "outputs": [],
   "source": [
    "import calendar"
   ]
  },
  {
   "cell_type": "code",
   "execution_count": 32,
   "metadata": {
    "collapsed": true
   },
   "outputs": [],
   "source": [
    "c=calendar.TextCalendar(calendar.THURSDAY)  # tells the interpreter to create a text calendar. \n",
    "                                         # Start of the month will be Sunday. In Python, you can format \n",
    "                                        # the calendar as you can change the day of the month to begin with"
   ]
  },
  {
   "cell_type": "code",
   "execution_count": 33,
   "metadata": {
    "collapsed": true
   },
   "outputs": [],
   "source": [
    "str = c.formatmonth(2018,3) # creating calendar for the year 2025, Month 1 – January"
   ]
  },
  {
   "cell_type": "code",
   "execution_count": 34,
   "metadata": {
    "scrolled": true
   },
   "outputs": [
    {
     "name": "stdout",
     "output_type": "stream",
     "text": [
      "     March 2018\n",
      "Th Fr Sa Su Mo Tu We\n",
      " 1  2  3  4  5  6  7\n",
      " 8  9 10 11 12 13 14\n",
      "15 16 17 18 19 20 21\n",
      "22 23 24 25 26 27 28\n",
      "29 30 31\n",
      "\n"
     ]
    }
   ],
   "source": [
    "print(str)"
   ]
  },
  {
   "cell_type": "code",
   "execution_count": 35,
   "metadata": {},
   "outputs": [
    {
     "name": "stdout",
     "output_type": "stream",
     "text": [
      "1\n",
      "2\n",
      "3\n",
      "4\n",
      "5\n",
      "6\n",
      "7\n",
      "8\n",
      "9\n",
      "10\n",
      "11\n",
      "12\n",
      "13\n",
      "14\n",
      "15\n",
      "16\n",
      "17\n",
      "18\n",
      "19\n",
      "20\n",
      "21\n",
      "22\n",
      "23\n",
      "24\n",
      "25\n",
      "26\n",
      "27\n",
      "28\n",
      "29\n",
      "30\n",
      "31\n",
      "0\n",
      "0\n",
      "0\n",
      "0\n"
     ]
    }
   ],
   "source": [
    "for i in c.itermonthdays(2018,3):\n",
    "    print(i)\n",
    "    \n",
    "    #Zeros in the output mean that the day of the week is in an \n",
    "    #overlapping month, which means it does not belong to that month.\n",
    "    \n",
    "    #These zeros appears in output because, in your code you have mentioned day (Thursday), \n",
    "    #so when you call function \"c.itermonthdays\" , it will start counting days from Thursday and your Thursday\n",
    "    #is not necessary to start with date 1st of April it might be 28th or 29th of march, \n",
    "    #so when you execute the code it will start counting days from 28th of march and any days \n",
    "    #after that till 1st of April. These days will be counted as zero and in the \n",
    "    #output you will see these zeroes and same is applicable to the end of the month."
   ]
  },
  {
   "cell_type": "code",
   "execution_count": 36,
   "metadata": {},
   "outputs": [
    {
     "name": "stdout",
     "output_type": "stream",
     "text": [
      "\n",
      "January\n",
      "February\n",
      "March\n",
      "April\n",
      "May\n",
      "June\n",
      "July\n",
      "August\n",
      "September\n",
      "October\n",
      "November\n",
      "December\n"
     ]
    }
   ],
   "source": [
    "for i in calendar.month_name:\n",
    "    print(i)"
   ]
  },
  {
   "cell_type": "code",
   "execution_count": 37,
   "metadata": {},
   "outputs": [
    {
     "name": "stdout",
     "output_type": "stream",
     "text": [
      "Monday\n",
      "Tuesday\n",
      "Wednesday\n",
      "Thursday\n",
      "Friday\n",
      "Saturday\n",
      "Sunday\n"
     ]
    }
   ],
   "source": [
    "for i in calendar.day_name:\n",
    "    print(i)"
   ]
  },
  {
   "cell_type": "markdown",
   "metadata": {
    "collapsed": true
   },
   "source": [
    "# There is an audit day on every first Monday of a week, and want to know the date for each month of the year, you can use this code"
   ]
  },
  {
   "cell_type": "code",
   "execution_count": 38,
   "metadata": {},
   "outputs": [
    {
     "name": "stdout",
     "output_type": "stream",
     "text": [
      "   January  1\n",
      "  February  5\n",
      "     March  5\n",
      "     April  2\n",
      "       May  7\n",
      "      June  4\n",
      "      July  2\n",
      "    August  6\n",
      " September  3\n",
      "   October  1\n",
      "  November  5\n",
      "  December  3\n"
     ]
    }
   ],
   "source": [
    "for month in range (1,13):\n",
    "    mycal = calendar.monthcalendar(2018,month)\n",
    "    \n",
    "    week1=mycal[0]\n",
    "    week2=mycal[1]\n",
    "    \n",
    "    if week1[calendar.MONDAY] != 0:\n",
    "        auditday = week1[calendar.MONDAY]\n",
    "    else:\n",
    "        auditday = week2[calendar.MONDAY]\n",
    "        \n",
    "    print(\"%10s %2d\" %(calendar.month_name[month],auditday))"
   ]
  }
 ],
 "metadata": {
  "kernelspec": {
   "display_name": "Python 3",
   "language": "python",
   "name": "python3"
  },
  "language_info": {
   "codemirror_mode": {
    "name": "ipython",
    "version": 3
   },
   "file_extension": ".py",
   "mimetype": "text/x-python",
   "name": "python",
   "nbconvert_exporter": "python",
   "pygments_lexer": "ipython3",
   "version": "3.6.3"
  }
 },
 "nbformat": 4,
 "nbformat_minor": 2
}

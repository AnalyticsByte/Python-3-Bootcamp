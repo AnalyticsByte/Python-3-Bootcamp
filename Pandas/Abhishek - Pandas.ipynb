{
 "cells": [
  {
   "cell_type": "code",
   "execution_count": 1,
   "metadata": {},
   "outputs": [],
   "source": [
    "import numpy as np"
   ]
  },
  {
   "cell_type": "code",
   "execution_count": 2,
   "metadata": {},
   "outputs": [],
   "source": [
    "import pandas as pd"
   ]
  },
  {
   "cell_type": "markdown",
   "metadata": {},
   "source": [
    "# **** Series ****"
   ]
  },
  {
   "cell_type": "markdown",
   "metadata": {},
   "source": [
    "what differentiates the numpy array from a pandas series is that a series do have axis labels meaning it can be indexed by a label."
   ]
  },
  {
   "cell_type": "markdown",
   "metadata": {},
   "source": [
    "#### Series vs Numpy Array "
   ]
  },
  {
   "cell_type": "code",
   "execution_count": 3,
   "metadata": {},
   "outputs": [],
   "source": [
    "val = [100,200,300] # created a list"
   ]
  },
  {
   "cell_type": "code",
   "execution_count": 4,
   "metadata": {},
   "outputs": [
    {
     "data": {
      "text/plain": [
       "0    100\n",
       "1    200\n",
       "2    300\n",
       "dtype: int64"
      ]
     },
     "execution_count": 4,
     "metadata": {},
     "output_type": "execute_result"
    }
   ],
   "source": [
    "val_ser = pd.Series(data = val)\n",
    "\n",
    "val_ser"
   ]
  },
  {
   "cell_type": "code",
   "execution_count": 5,
   "metadata": {},
   "outputs": [
    {
     "data": {
      "text/plain": [
       "200"
      ]
     },
     "execution_count": 5,
     "metadata": {},
     "output_type": "execute_result"
    }
   ],
   "source": [
    "val_ser[1]"
   ]
  },
  {
   "cell_type": "markdown",
   "metadata": {},
   "source": [
    "Now I can specify my index in series, which is not possible in numpy array.\n",
    "<p>You can change the index"
   ]
  },
  {
   "cell_type": "code",
   "execution_count": 6,
   "metadata": {},
   "outputs": [],
   "source": [
    "my_label = ['x','y','z']"
   ]
  },
  {
   "cell_type": "code",
   "execution_count": 7,
   "metadata": {},
   "outputs": [
    {
     "data": {
      "text/plain": [
       "x    100\n",
       "y    200\n",
       "z    300\n",
       "dtype: int64"
      ]
     },
     "execution_count": 7,
     "metadata": {},
     "output_type": "execute_result"
    }
   ],
   "source": [
    "val_ser1 = pd.Series(data = val, index = my_label)\n",
    "\n",
    "val_ser1"
   ]
  },
  {
   "cell_type": "markdown",
   "metadata": {},
   "source": [
    "you can pass numpy array in a series"
   ]
  },
  {
   "cell_type": "code",
   "execution_count": 8,
   "metadata": {},
   "outputs": [
    {
     "data": {
      "text/plain": [
       "array([100, 200, 300])"
      ]
     },
     "execution_count": 8,
     "metadata": {},
     "output_type": "execute_result"
    }
   ],
   "source": [
    "arr1=np.array(val)\n",
    "\n",
    "arr1"
   ]
  },
  {
   "cell_type": "code",
   "execution_count": 9,
   "metadata": {},
   "outputs": [
    {
     "data": {
      "text/plain": [
       "0    100\n",
       "1    200\n",
       "2    300\n",
       "dtype: int64"
      ]
     },
     "execution_count": 9,
     "metadata": {},
     "output_type": "execute_result"
    }
   ],
   "source": [
    "val_ser2 = pd.Series(data = arr1)\n",
    "\n",
    "val_ser2"
   ]
  },
  {
   "cell_type": "markdown",
   "metadata": {},
   "source": [
    "#### Series vs Dictionary"
   ]
  },
  {
   "cell_type": "code",
   "execution_count": 10,
   "metadata": {},
   "outputs": [],
   "source": [
    "dict = {'x':23,'y':34, 'z':77}"
   ]
  },
  {
   "cell_type": "code",
   "execution_count": 11,
   "metadata": {},
   "outputs": [
    {
     "data": {
      "text/plain": [
       "x    23\n",
       "y    34\n",
       "z    77\n",
       "dtype: int64"
      ]
     },
     "execution_count": 11,
     "metadata": {},
     "output_type": "execute_result"
    }
   ],
   "source": [
    "val_ser3 = pd.Series(data = dict) #key is assigned as an index number\n",
    "\n",
    "val_ser3"
   ]
  },
  {
   "cell_type": "markdown",
   "metadata": {},
   "source": [
    "### Some other way to creating series"
   ]
  },
  {
   "cell_type": "code",
   "execution_count": 12,
   "metadata": {},
   "outputs": [
    {
     "data": {
      "text/plain": [
       "p    33\n",
       "q    44\n",
       "r    55\n",
       "s    66\n",
       "dtype: int64"
      ]
     },
     "execution_count": 12,
     "metadata": {},
     "output_type": "execute_result"
    }
   ],
   "source": [
    "new_ser = pd.Series([33,44,55,66],['p','q','r','s'])\n",
    "\n",
    "new_ser"
   ]
  },
  {
   "cell_type": "code",
   "execution_count": null,
   "metadata": {},
   "outputs": [],
   "source": []
  },
  {
   "cell_type": "markdown",
   "metadata": {},
   "source": [
    "# **** DataFrames ****"
   ]
  },
  {
   "cell_type": "code",
   "execution_count": 13,
   "metadata": {},
   "outputs": [],
   "source": [
    "from numpy.random import rand"
   ]
  },
  {
   "cell_type": "code",
   "execution_count": 14,
   "metadata": {},
   "outputs": [],
   "source": [
    "df = pd.DataFrame(rand(6,5))"
   ]
  },
  {
   "cell_type": "code",
   "execution_count": 15,
   "metadata": {},
   "outputs": [
    {
     "data": {
      "text/html": [
       "<div>\n",
       "<style scoped>\n",
       "    .dataframe tbody tr th:only-of-type {\n",
       "        vertical-align: middle;\n",
       "    }\n",
       "\n",
       "    .dataframe tbody tr th {\n",
       "        vertical-align: top;\n",
       "    }\n",
       "\n",
       "    .dataframe thead th {\n",
       "        text-align: right;\n",
       "    }\n",
       "</style>\n",
       "<table border=\"1\" class=\"dataframe\">\n",
       "  <thead>\n",
       "    <tr style=\"text-align: right;\">\n",
       "      <th></th>\n",
       "      <th>0</th>\n",
       "      <th>1</th>\n",
       "      <th>2</th>\n",
       "      <th>3</th>\n",
       "      <th>4</th>\n",
       "    </tr>\n",
       "  </thead>\n",
       "  <tbody>\n",
       "    <tr>\n",
       "      <th>0</th>\n",
       "      <td>0.990314</td>\n",
       "      <td>0.652045</td>\n",
       "      <td>0.477521</td>\n",
       "      <td>0.516885</td>\n",
       "      <td>0.555045</td>\n",
       "    </tr>\n",
       "    <tr>\n",
       "      <th>1</th>\n",
       "      <td>0.794730</td>\n",
       "      <td>0.336344</td>\n",
       "      <td>0.182765</td>\n",
       "      <td>0.254636</td>\n",
       "      <td>0.167182</td>\n",
       "    </tr>\n",
       "    <tr>\n",
       "      <th>2</th>\n",
       "      <td>0.313704</td>\n",
       "      <td>0.069053</td>\n",
       "      <td>0.847559</td>\n",
       "      <td>0.950708</td>\n",
       "      <td>0.483461</td>\n",
       "    </tr>\n",
       "    <tr>\n",
       "      <th>3</th>\n",
       "      <td>0.136208</td>\n",
       "      <td>0.588437</td>\n",
       "      <td>0.076483</td>\n",
       "      <td>0.321342</td>\n",
       "      <td>0.067818</td>\n",
       "    </tr>\n",
       "    <tr>\n",
       "      <th>4</th>\n",
       "      <td>0.732901</td>\n",
       "      <td>0.668752</td>\n",
       "      <td>0.372688</td>\n",
       "      <td>0.323636</td>\n",
       "      <td>0.213539</td>\n",
       "    </tr>\n",
       "    <tr>\n",
       "      <th>5</th>\n",
       "      <td>0.160490</td>\n",
       "      <td>0.656186</td>\n",
       "      <td>0.067747</td>\n",
       "      <td>0.805164</td>\n",
       "      <td>0.209061</td>\n",
       "    </tr>\n",
       "  </tbody>\n",
       "</table>\n",
       "</div>"
      ],
      "text/plain": [
       "          0         1         2         3         4\n",
       "0  0.990314  0.652045  0.477521  0.516885  0.555045\n",
       "1  0.794730  0.336344  0.182765  0.254636  0.167182\n",
       "2  0.313704  0.069053  0.847559  0.950708  0.483461\n",
       "3  0.136208  0.588437  0.076483  0.321342  0.067818\n",
       "4  0.732901  0.668752  0.372688  0.323636  0.213539\n",
       "5  0.160490  0.656186  0.067747  0.805164  0.209061"
      ]
     },
     "execution_count": 15,
     "metadata": {},
     "output_type": "execute_result"
    }
   ],
   "source": [
    "df"
   ]
  },
  {
   "cell_type": "code",
   "execution_count": 16,
   "metadata": {},
   "outputs": [
    {
     "data": {
      "text/html": [
       "<div>\n",
       "<style scoped>\n",
       "    .dataframe tbody tr th:only-of-type {\n",
       "        vertical-align: middle;\n",
       "    }\n",
       "\n",
       "    .dataframe tbody tr th {\n",
       "        vertical-align: top;\n",
       "    }\n",
       "\n",
       "    .dataframe thead th {\n",
       "        text-align: right;\n",
       "    }\n",
       "</style>\n",
       "<table border=\"1\" class=\"dataframe\">\n",
       "  <thead>\n",
       "    <tr style=\"text-align: right;\">\n",
       "      <th></th>\n",
       "      <th>A</th>\n",
       "      <th>B</th>\n",
       "      <th>C</th>\n",
       "      <th>D</th>\n",
       "      <th>E</th>\n",
       "    </tr>\n",
       "  </thead>\n",
       "  <tbody>\n",
       "    <tr>\n",
       "      <th>L</th>\n",
       "      <td>0.480328</td>\n",
       "      <td>0.746819</td>\n",
       "      <td>0.008750</td>\n",
       "      <td>0.962353</td>\n",
       "      <td>0.750057</td>\n",
       "    </tr>\n",
       "    <tr>\n",
       "      <th>M</th>\n",
       "      <td>0.055304</td>\n",
       "      <td>0.529850</td>\n",
       "      <td>0.333361</td>\n",
       "      <td>0.442225</td>\n",
       "      <td>0.699968</td>\n",
       "    </tr>\n",
       "    <tr>\n",
       "      <th>N</th>\n",
       "      <td>0.737158</td>\n",
       "      <td>0.636782</td>\n",
       "      <td>0.858335</td>\n",
       "      <td>0.265443</td>\n",
       "      <td>0.249909</td>\n",
       "    </tr>\n",
       "    <tr>\n",
       "      <th>O</th>\n",
       "      <td>0.941004</td>\n",
       "      <td>0.113593</td>\n",
       "      <td>0.222881</td>\n",
       "      <td>0.166813</td>\n",
       "      <td>0.607160</td>\n",
       "    </tr>\n",
       "    <tr>\n",
       "      <th>P</th>\n",
       "      <td>0.035178</td>\n",
       "      <td>0.881748</td>\n",
       "      <td>0.341881</td>\n",
       "      <td>0.632840</td>\n",
       "      <td>0.466332</td>\n",
       "    </tr>\n",
       "    <tr>\n",
       "      <th>Q</th>\n",
       "      <td>0.465565</td>\n",
       "      <td>0.841118</td>\n",
       "      <td>0.123143</td>\n",
       "      <td>0.659726</td>\n",
       "      <td>0.893599</td>\n",
       "    </tr>\n",
       "  </tbody>\n",
       "</table>\n",
       "</div>"
      ],
      "text/plain": [
       "          A         B         C         D         E\n",
       "L  0.480328  0.746819  0.008750  0.962353  0.750057\n",
       "M  0.055304  0.529850  0.333361  0.442225  0.699968\n",
       "N  0.737158  0.636782  0.858335  0.265443  0.249909\n",
       "O  0.941004  0.113593  0.222881  0.166813  0.607160\n",
       "P  0.035178  0.881748  0.341881  0.632840  0.466332\n",
       "Q  0.465565  0.841118  0.123143  0.659726  0.893599"
      ]
     },
     "execution_count": 16,
     "metadata": {},
     "output_type": "execute_result"
    }
   ],
   "source": [
    "#creating a dataframe with assigned labels\n",
    "\n",
    "df = pd.DataFrame(rand(6,5),['L','M','N','O','P','Q'], ['A','B','C','D','E'])\n",
    "\n",
    "df"
   ]
  },
  {
   "cell_type": "markdown",
   "metadata": {},
   "source": [
    "#### Each of these coloumns and rows are pandas series that sharing the same index"
   ]
  },
  {
   "cell_type": "markdown",
   "metadata": {},
   "source": [
    "### Selecting coloumns"
   ]
  },
  {
   "cell_type": "code",
   "execution_count": 17,
   "metadata": {},
   "outputs": [
    {
     "data": {
      "text/plain": [
       "L    0.480328\n",
       "M    0.055304\n",
       "N    0.737158\n",
       "O    0.941004\n",
       "P    0.035178\n",
       "Q    0.465565\n",
       "Name: A, dtype: float64"
      ]
     },
     "execution_count": 17,
     "metadata": {},
     "output_type": "execute_result"
    }
   ],
   "source": [
    "df['A']"
   ]
  },
  {
   "cell_type": "code",
   "execution_count": 18,
   "metadata": {},
   "outputs": [
    {
     "data": {
      "text/plain": [
       "pandas.core.frame.DataFrame"
      ]
     },
     "execution_count": 18,
     "metadata": {},
     "output_type": "execute_result"
    }
   ],
   "source": [
    "type(df)"
   ]
  },
  {
   "cell_type": "code",
   "execution_count": 19,
   "metadata": {},
   "outputs": [
    {
     "data": {
      "text/plain": [
       "pandas.core.series.Series"
      ]
     },
     "execution_count": 19,
     "metadata": {},
     "output_type": "execute_result"
    }
   ],
   "source": [
    "type(df['A'])"
   ]
  },
  {
   "cell_type": "code",
   "execution_count": 20,
   "metadata": {},
   "outputs": [
    {
     "data": {
      "text/html": [
       "<div>\n",
       "<style scoped>\n",
       "    .dataframe tbody tr th:only-of-type {\n",
       "        vertical-align: middle;\n",
       "    }\n",
       "\n",
       "    .dataframe tbody tr th {\n",
       "        vertical-align: top;\n",
       "    }\n",
       "\n",
       "    .dataframe thead th {\n",
       "        text-align: right;\n",
       "    }\n",
       "</style>\n",
       "<table border=\"1\" class=\"dataframe\">\n",
       "  <thead>\n",
       "    <tr style=\"text-align: right;\">\n",
       "      <th></th>\n",
       "      <th>B</th>\n",
       "      <th>C</th>\n",
       "    </tr>\n",
       "  </thead>\n",
       "  <tbody>\n",
       "    <tr>\n",
       "      <th>L</th>\n",
       "      <td>0.746819</td>\n",
       "      <td>0.008750</td>\n",
       "    </tr>\n",
       "    <tr>\n",
       "      <th>M</th>\n",
       "      <td>0.529850</td>\n",
       "      <td>0.333361</td>\n",
       "    </tr>\n",
       "    <tr>\n",
       "      <th>N</th>\n",
       "      <td>0.636782</td>\n",
       "      <td>0.858335</td>\n",
       "    </tr>\n",
       "    <tr>\n",
       "      <th>O</th>\n",
       "      <td>0.113593</td>\n",
       "      <td>0.222881</td>\n",
       "    </tr>\n",
       "    <tr>\n",
       "      <th>P</th>\n",
       "      <td>0.881748</td>\n",
       "      <td>0.341881</td>\n",
       "    </tr>\n",
       "    <tr>\n",
       "      <th>Q</th>\n",
       "      <td>0.841118</td>\n",
       "      <td>0.123143</td>\n",
       "    </tr>\n",
       "  </tbody>\n",
       "</table>\n",
       "</div>"
      ],
      "text/plain": [
       "          B         C\n",
       "L  0.746819  0.008750\n",
       "M  0.529850  0.333361\n",
       "N  0.636782  0.858335\n",
       "O  0.113593  0.222881\n",
       "P  0.881748  0.341881\n",
       "Q  0.841118  0.123143"
      ]
     },
     "execution_count": 20,
     "metadata": {},
     "output_type": "execute_result"
    }
   ],
   "source": [
    "#displaying multiple coloumns\n",
    "\n",
    "df[['B','C']]"
   ]
  },
  {
   "cell_type": "markdown",
   "metadata": {},
   "source": [
    "##### when we are calling single coloumn then its a series and for multiple coloumn its a Data Frame"
   ]
  },
  {
   "cell_type": "markdown",
   "metadata": {},
   "source": [
    "### Selecting Rows"
   ]
  },
  {
   "cell_type": "code",
   "execution_count": 21,
   "metadata": {},
   "outputs": [
    {
     "data": {
      "text/html": [
       "<div>\n",
       "<style scoped>\n",
       "    .dataframe tbody tr th:only-of-type {\n",
       "        vertical-align: middle;\n",
       "    }\n",
       "\n",
       "    .dataframe tbody tr th {\n",
       "        vertical-align: top;\n",
       "    }\n",
       "\n",
       "    .dataframe thead th {\n",
       "        text-align: right;\n",
       "    }\n",
       "</style>\n",
       "<table border=\"1\" class=\"dataframe\">\n",
       "  <thead>\n",
       "    <tr style=\"text-align: right;\">\n",
       "      <th></th>\n",
       "      <th>A</th>\n",
       "      <th>B</th>\n",
       "      <th>C</th>\n",
       "      <th>D</th>\n",
       "      <th>E</th>\n",
       "    </tr>\n",
       "  </thead>\n",
       "  <tbody>\n",
       "    <tr>\n",
       "      <th>L</th>\n",
       "      <td>0.480328</td>\n",
       "      <td>0.746819</td>\n",
       "      <td>0.008750</td>\n",
       "      <td>0.962353</td>\n",
       "      <td>0.750057</td>\n",
       "    </tr>\n",
       "    <tr>\n",
       "      <th>M</th>\n",
       "      <td>0.055304</td>\n",
       "      <td>0.529850</td>\n",
       "      <td>0.333361</td>\n",
       "      <td>0.442225</td>\n",
       "      <td>0.699968</td>\n",
       "    </tr>\n",
       "    <tr>\n",
       "      <th>N</th>\n",
       "      <td>0.737158</td>\n",
       "      <td>0.636782</td>\n",
       "      <td>0.858335</td>\n",
       "      <td>0.265443</td>\n",
       "      <td>0.249909</td>\n",
       "    </tr>\n",
       "    <tr>\n",
       "      <th>O</th>\n",
       "      <td>0.941004</td>\n",
       "      <td>0.113593</td>\n",
       "      <td>0.222881</td>\n",
       "      <td>0.166813</td>\n",
       "      <td>0.607160</td>\n",
       "    </tr>\n",
       "    <tr>\n",
       "      <th>P</th>\n",
       "      <td>0.035178</td>\n",
       "      <td>0.881748</td>\n",
       "      <td>0.341881</td>\n",
       "      <td>0.632840</td>\n",
       "      <td>0.466332</td>\n",
       "    </tr>\n",
       "    <tr>\n",
       "      <th>Q</th>\n",
       "      <td>0.465565</td>\n",
       "      <td>0.841118</td>\n",
       "      <td>0.123143</td>\n",
       "      <td>0.659726</td>\n",
       "      <td>0.893599</td>\n",
       "    </tr>\n",
       "  </tbody>\n",
       "</table>\n",
       "</div>"
      ],
      "text/plain": [
       "          A         B         C         D         E\n",
       "L  0.480328  0.746819  0.008750  0.962353  0.750057\n",
       "M  0.055304  0.529850  0.333361  0.442225  0.699968\n",
       "N  0.737158  0.636782  0.858335  0.265443  0.249909\n",
       "O  0.941004  0.113593  0.222881  0.166813  0.607160\n",
       "P  0.035178  0.881748  0.341881  0.632840  0.466332\n",
       "Q  0.465565  0.841118  0.123143  0.659726  0.893599"
      ]
     },
     "execution_count": 21,
     "metadata": {},
     "output_type": "execute_result"
    }
   ],
   "source": [
    "df"
   ]
  },
  {
   "cell_type": "code",
   "execution_count": 22,
   "metadata": {},
   "outputs": [
    {
     "data": {
      "text/plain": [
       "A    0.035178\n",
       "B    0.881748\n",
       "C    0.341881\n",
       "D    0.632840\n",
       "E    0.466332\n",
       "Name: P, dtype: float64"
      ]
     },
     "execution_count": 22,
     "metadata": {},
     "output_type": "execute_result"
    }
   ],
   "source": [
    "df.loc['P'] #Its a series"
   ]
  },
  {
   "cell_type": "code",
   "execution_count": 23,
   "metadata": {},
   "outputs": [
    {
     "data": {
      "text/plain": [
       "A    0.035178\n",
       "B    0.881748\n",
       "C    0.341881\n",
       "D    0.632840\n",
       "E    0.466332\n",
       "Name: P, dtype: float64"
      ]
     },
     "execution_count": 23,
     "metadata": {},
     "output_type": "execute_result"
    }
   ],
   "source": [
    "#selecting any rows with its index number\n",
    "\n",
    "df.iloc[4]\n"
   ]
  },
  {
   "cell_type": "code",
   "execution_count": 24,
   "metadata": {},
   "outputs": [
    {
     "data": {
      "text/plain": [
       "0.8583354226040538"
      ]
     },
     "execution_count": 24,
     "metadata": {},
     "output_type": "execute_result"
    }
   ],
   "source": [
    "df.loc['N','C'] #selecting with labels\n",
    "\n",
    "#df.iloc[2,2] #Selecting with index no"
   ]
  },
  {
   "cell_type": "code",
   "execution_count": 25,
   "metadata": {},
   "outputs": [
    {
     "data": {
      "text/html": [
       "<div>\n",
       "<style scoped>\n",
       "    .dataframe tbody tr th:only-of-type {\n",
       "        vertical-align: middle;\n",
       "    }\n",
       "\n",
       "    .dataframe tbody tr th {\n",
       "        vertical-align: top;\n",
       "    }\n",
       "\n",
       "    .dataframe thead th {\n",
       "        text-align: right;\n",
       "    }\n",
       "</style>\n",
       "<table border=\"1\" class=\"dataframe\">\n",
       "  <thead>\n",
       "    <tr style=\"text-align: right;\">\n",
       "      <th></th>\n",
       "      <th>C</th>\n",
       "      <th>D</th>\n",
       "    </tr>\n",
       "  </thead>\n",
       "  <tbody>\n",
       "    <tr>\n",
       "      <th>M</th>\n",
       "      <td>0.333361</td>\n",
       "      <td>0.442225</td>\n",
       "    </tr>\n",
       "    <tr>\n",
       "      <th>N</th>\n",
       "      <td>0.858335</td>\n",
       "      <td>0.265443</td>\n",
       "    </tr>\n",
       "  </tbody>\n",
       "</table>\n",
       "</div>"
      ],
      "text/plain": [
       "          C         D\n",
       "M  0.333361  0.442225\n",
       "N  0.858335  0.265443"
      ]
     },
     "execution_count": 25,
     "metadata": {},
     "output_type": "execute_result"
    }
   ],
   "source": [
    "df.loc[['M','N'],['C','D']]\n",
    "\n",
    "#df.iloc[[1,2],[2,3]]"
   ]
  },
  {
   "cell_type": "markdown",
   "metadata": {},
   "source": [
    "## Adding and dropping a coloumn"
   ]
  },
  {
   "cell_type": "code",
   "execution_count": 26,
   "metadata": {},
   "outputs": [],
   "source": [
    "df['col'] = df['B'] + df['C']"
   ]
  },
  {
   "cell_type": "code",
   "execution_count": 27,
   "metadata": {},
   "outputs": [
    {
     "data": {
      "text/html": [
       "<div>\n",
       "<style scoped>\n",
       "    .dataframe tbody tr th:only-of-type {\n",
       "        vertical-align: middle;\n",
       "    }\n",
       "\n",
       "    .dataframe tbody tr th {\n",
       "        vertical-align: top;\n",
       "    }\n",
       "\n",
       "    .dataframe thead th {\n",
       "        text-align: right;\n",
       "    }\n",
       "</style>\n",
       "<table border=\"1\" class=\"dataframe\">\n",
       "  <thead>\n",
       "    <tr style=\"text-align: right;\">\n",
       "      <th></th>\n",
       "      <th>A</th>\n",
       "      <th>B</th>\n",
       "      <th>C</th>\n",
       "      <th>D</th>\n",
       "      <th>E</th>\n",
       "      <th>col</th>\n",
       "    </tr>\n",
       "  </thead>\n",
       "  <tbody>\n",
       "    <tr>\n",
       "      <th>L</th>\n",
       "      <td>0.480328</td>\n",
       "      <td>0.746819</td>\n",
       "      <td>0.008750</td>\n",
       "      <td>0.962353</td>\n",
       "      <td>0.750057</td>\n",
       "      <td>0.755570</td>\n",
       "    </tr>\n",
       "    <tr>\n",
       "      <th>M</th>\n",
       "      <td>0.055304</td>\n",
       "      <td>0.529850</td>\n",
       "      <td>0.333361</td>\n",
       "      <td>0.442225</td>\n",
       "      <td>0.699968</td>\n",
       "      <td>0.863210</td>\n",
       "    </tr>\n",
       "    <tr>\n",
       "      <th>N</th>\n",
       "      <td>0.737158</td>\n",
       "      <td>0.636782</td>\n",
       "      <td>0.858335</td>\n",
       "      <td>0.265443</td>\n",
       "      <td>0.249909</td>\n",
       "      <td>1.495118</td>\n",
       "    </tr>\n",
       "    <tr>\n",
       "      <th>O</th>\n",
       "      <td>0.941004</td>\n",
       "      <td>0.113593</td>\n",
       "      <td>0.222881</td>\n",
       "      <td>0.166813</td>\n",
       "      <td>0.607160</td>\n",
       "      <td>0.336475</td>\n",
       "    </tr>\n",
       "    <tr>\n",
       "      <th>P</th>\n",
       "      <td>0.035178</td>\n",
       "      <td>0.881748</td>\n",
       "      <td>0.341881</td>\n",
       "      <td>0.632840</td>\n",
       "      <td>0.466332</td>\n",
       "      <td>1.223628</td>\n",
       "    </tr>\n",
       "    <tr>\n",
       "      <th>Q</th>\n",
       "      <td>0.465565</td>\n",
       "      <td>0.841118</td>\n",
       "      <td>0.123143</td>\n",
       "      <td>0.659726</td>\n",
       "      <td>0.893599</td>\n",
       "      <td>0.964261</td>\n",
       "    </tr>\n",
       "  </tbody>\n",
       "</table>\n",
       "</div>"
      ],
      "text/plain": [
       "          A         B         C         D         E       col\n",
       "L  0.480328  0.746819  0.008750  0.962353  0.750057  0.755570\n",
       "M  0.055304  0.529850  0.333361  0.442225  0.699968  0.863210\n",
       "N  0.737158  0.636782  0.858335  0.265443  0.249909  1.495118\n",
       "O  0.941004  0.113593  0.222881  0.166813  0.607160  0.336475\n",
       "P  0.035178  0.881748  0.341881  0.632840  0.466332  1.223628\n",
       "Q  0.465565  0.841118  0.123143  0.659726  0.893599  0.964261"
      ]
     },
     "execution_count": 27,
     "metadata": {},
     "output_type": "execute_result"
    }
   ],
   "source": [
    "df"
   ]
  },
  {
   "cell_type": "markdown",
   "metadata": {},
   "source": [
    "#### Dropping a coloumn"
   ]
  },
  {
   "cell_type": "code",
   "execution_count": 28,
   "metadata": {},
   "outputs": [
    {
     "data": {
      "text/html": [
       "<div>\n",
       "<style scoped>\n",
       "    .dataframe tbody tr th:only-of-type {\n",
       "        vertical-align: middle;\n",
       "    }\n",
       "\n",
       "    .dataframe tbody tr th {\n",
       "        vertical-align: top;\n",
       "    }\n",
       "\n",
       "    .dataframe thead th {\n",
       "        text-align: right;\n",
       "    }\n",
       "</style>\n",
       "<table border=\"1\" class=\"dataframe\">\n",
       "  <thead>\n",
       "    <tr style=\"text-align: right;\">\n",
       "      <th></th>\n",
       "      <th>A</th>\n",
       "      <th>B</th>\n",
       "      <th>C</th>\n",
       "      <th>D</th>\n",
       "      <th>E</th>\n",
       "    </tr>\n",
       "  </thead>\n",
       "  <tbody>\n",
       "    <tr>\n",
       "      <th>L</th>\n",
       "      <td>0.480328</td>\n",
       "      <td>0.746819</td>\n",
       "      <td>0.008750</td>\n",
       "      <td>0.962353</td>\n",
       "      <td>0.750057</td>\n",
       "    </tr>\n",
       "    <tr>\n",
       "      <th>M</th>\n",
       "      <td>0.055304</td>\n",
       "      <td>0.529850</td>\n",
       "      <td>0.333361</td>\n",
       "      <td>0.442225</td>\n",
       "      <td>0.699968</td>\n",
       "    </tr>\n",
       "    <tr>\n",
       "      <th>N</th>\n",
       "      <td>0.737158</td>\n",
       "      <td>0.636782</td>\n",
       "      <td>0.858335</td>\n",
       "      <td>0.265443</td>\n",
       "      <td>0.249909</td>\n",
       "    </tr>\n",
       "    <tr>\n",
       "      <th>O</th>\n",
       "      <td>0.941004</td>\n",
       "      <td>0.113593</td>\n",
       "      <td>0.222881</td>\n",
       "      <td>0.166813</td>\n",
       "      <td>0.607160</td>\n",
       "    </tr>\n",
       "    <tr>\n",
       "      <th>P</th>\n",
       "      <td>0.035178</td>\n",
       "      <td>0.881748</td>\n",
       "      <td>0.341881</td>\n",
       "      <td>0.632840</td>\n",
       "      <td>0.466332</td>\n",
       "    </tr>\n",
       "    <tr>\n",
       "      <th>Q</th>\n",
       "      <td>0.465565</td>\n",
       "      <td>0.841118</td>\n",
       "      <td>0.123143</td>\n",
       "      <td>0.659726</td>\n",
       "      <td>0.893599</td>\n",
       "    </tr>\n",
       "  </tbody>\n",
       "</table>\n",
       "</div>"
      ],
      "text/plain": [
       "          A         B         C         D         E\n",
       "L  0.480328  0.746819  0.008750  0.962353  0.750057\n",
       "M  0.055304  0.529850  0.333361  0.442225  0.699968\n",
       "N  0.737158  0.636782  0.858335  0.265443  0.249909\n",
       "O  0.941004  0.113593  0.222881  0.166813  0.607160\n",
       "P  0.035178  0.881748  0.341881  0.632840  0.466332\n",
       "Q  0.465565  0.841118  0.123143  0.659726  0.893599"
      ]
     },
     "execution_count": 28,
     "metadata": {},
     "output_type": "execute_result"
    }
   ],
   "source": [
    "df.drop('col',axis = 1) # axis = 1 is for coloumn\n",
    "                        # axis = 0 is for row (It's by default)"
   ]
  },
  {
   "cell_type": "code",
   "execution_count": 29,
   "metadata": {},
   "outputs": [
    {
     "data": {
      "text/html": [
       "<div>\n",
       "<style scoped>\n",
       "    .dataframe tbody tr th:only-of-type {\n",
       "        vertical-align: middle;\n",
       "    }\n",
       "\n",
       "    .dataframe tbody tr th {\n",
       "        vertical-align: top;\n",
       "    }\n",
       "\n",
       "    .dataframe thead th {\n",
       "        text-align: right;\n",
       "    }\n",
       "</style>\n",
       "<table border=\"1\" class=\"dataframe\">\n",
       "  <thead>\n",
       "    <tr style=\"text-align: right;\">\n",
       "      <th></th>\n",
       "      <th>A</th>\n",
       "      <th>B</th>\n",
       "      <th>C</th>\n",
       "      <th>D</th>\n",
       "      <th>E</th>\n",
       "      <th>col</th>\n",
       "    </tr>\n",
       "  </thead>\n",
       "  <tbody>\n",
       "    <tr>\n",
       "      <th>L</th>\n",
       "      <td>0.480328</td>\n",
       "      <td>0.746819</td>\n",
       "      <td>0.008750</td>\n",
       "      <td>0.962353</td>\n",
       "      <td>0.750057</td>\n",
       "      <td>0.755570</td>\n",
       "    </tr>\n",
       "    <tr>\n",
       "      <th>M</th>\n",
       "      <td>0.055304</td>\n",
       "      <td>0.529850</td>\n",
       "      <td>0.333361</td>\n",
       "      <td>0.442225</td>\n",
       "      <td>0.699968</td>\n",
       "      <td>0.863210</td>\n",
       "    </tr>\n",
       "    <tr>\n",
       "      <th>N</th>\n",
       "      <td>0.737158</td>\n",
       "      <td>0.636782</td>\n",
       "      <td>0.858335</td>\n",
       "      <td>0.265443</td>\n",
       "      <td>0.249909</td>\n",
       "      <td>1.495118</td>\n",
       "    </tr>\n",
       "    <tr>\n",
       "      <th>O</th>\n",
       "      <td>0.941004</td>\n",
       "      <td>0.113593</td>\n",
       "      <td>0.222881</td>\n",
       "      <td>0.166813</td>\n",
       "      <td>0.607160</td>\n",
       "      <td>0.336475</td>\n",
       "    </tr>\n",
       "    <tr>\n",
       "      <th>P</th>\n",
       "      <td>0.035178</td>\n",
       "      <td>0.881748</td>\n",
       "      <td>0.341881</td>\n",
       "      <td>0.632840</td>\n",
       "      <td>0.466332</td>\n",
       "      <td>1.223628</td>\n",
       "    </tr>\n",
       "    <tr>\n",
       "      <th>Q</th>\n",
       "      <td>0.465565</td>\n",
       "      <td>0.841118</td>\n",
       "      <td>0.123143</td>\n",
       "      <td>0.659726</td>\n",
       "      <td>0.893599</td>\n",
       "      <td>0.964261</td>\n",
       "    </tr>\n",
       "  </tbody>\n",
       "</table>\n",
       "</div>"
      ],
      "text/plain": [
       "          A         B         C         D         E       col\n",
       "L  0.480328  0.746819  0.008750  0.962353  0.750057  0.755570\n",
       "M  0.055304  0.529850  0.333361  0.442225  0.699968  0.863210\n",
       "N  0.737158  0.636782  0.858335  0.265443  0.249909  1.495118\n",
       "O  0.941004  0.113593  0.222881  0.166813  0.607160  0.336475\n",
       "P  0.035178  0.881748  0.341881  0.632840  0.466332  1.223628\n",
       "Q  0.465565  0.841118  0.123143  0.659726  0.893599  0.964261"
      ]
     },
     "execution_count": 29,
     "metadata": {},
     "output_type": "execute_result"
    }
   ],
   "source": [
    "df # still we can find the deleted coloumn'col' "
   ]
  },
  {
   "cell_type": "code",
   "execution_count": 30,
   "metadata": {},
   "outputs": [],
   "source": [
    "df.drop('col',axis = 1,inplace = True) # coloumn name 'col' deleted permanently"
   ]
  },
  {
   "cell_type": "code",
   "execution_count": 31,
   "metadata": {},
   "outputs": [
    {
     "data": {
      "text/html": [
       "<div>\n",
       "<style scoped>\n",
       "    .dataframe tbody tr th:only-of-type {\n",
       "        vertical-align: middle;\n",
       "    }\n",
       "\n",
       "    .dataframe tbody tr th {\n",
       "        vertical-align: top;\n",
       "    }\n",
       "\n",
       "    .dataframe thead th {\n",
       "        text-align: right;\n",
       "    }\n",
       "</style>\n",
       "<table border=\"1\" class=\"dataframe\">\n",
       "  <thead>\n",
       "    <tr style=\"text-align: right;\">\n",
       "      <th></th>\n",
       "      <th>A</th>\n",
       "      <th>B</th>\n",
       "      <th>C</th>\n",
       "      <th>D</th>\n",
       "      <th>E</th>\n",
       "    </tr>\n",
       "  </thead>\n",
       "  <tbody>\n",
       "    <tr>\n",
       "      <th>L</th>\n",
       "      <td>0.480328</td>\n",
       "      <td>0.746819</td>\n",
       "      <td>0.008750</td>\n",
       "      <td>0.962353</td>\n",
       "      <td>0.750057</td>\n",
       "    </tr>\n",
       "    <tr>\n",
       "      <th>M</th>\n",
       "      <td>0.055304</td>\n",
       "      <td>0.529850</td>\n",
       "      <td>0.333361</td>\n",
       "      <td>0.442225</td>\n",
       "      <td>0.699968</td>\n",
       "    </tr>\n",
       "    <tr>\n",
       "      <th>N</th>\n",
       "      <td>0.737158</td>\n",
       "      <td>0.636782</td>\n",
       "      <td>0.858335</td>\n",
       "      <td>0.265443</td>\n",
       "      <td>0.249909</td>\n",
       "    </tr>\n",
       "    <tr>\n",
       "      <th>O</th>\n",
       "      <td>0.941004</td>\n",
       "      <td>0.113593</td>\n",
       "      <td>0.222881</td>\n",
       "      <td>0.166813</td>\n",
       "      <td>0.607160</td>\n",
       "    </tr>\n",
       "    <tr>\n",
       "      <th>P</th>\n",
       "      <td>0.035178</td>\n",
       "      <td>0.881748</td>\n",
       "      <td>0.341881</td>\n",
       "      <td>0.632840</td>\n",
       "      <td>0.466332</td>\n",
       "    </tr>\n",
       "    <tr>\n",
       "      <th>Q</th>\n",
       "      <td>0.465565</td>\n",
       "      <td>0.841118</td>\n",
       "      <td>0.123143</td>\n",
       "      <td>0.659726</td>\n",
       "      <td>0.893599</td>\n",
       "    </tr>\n",
       "  </tbody>\n",
       "</table>\n",
       "</div>"
      ],
      "text/plain": [
       "          A         B         C         D         E\n",
       "L  0.480328  0.746819  0.008750  0.962353  0.750057\n",
       "M  0.055304  0.529850  0.333361  0.442225  0.699968\n",
       "N  0.737158  0.636782  0.858335  0.265443  0.249909\n",
       "O  0.941004  0.113593  0.222881  0.166813  0.607160\n",
       "P  0.035178  0.881748  0.341881  0.632840  0.466332\n",
       "Q  0.465565  0.841118  0.123143  0.659726  0.893599"
      ]
     },
     "execution_count": 31,
     "metadata": {},
     "output_type": "execute_result"
    }
   ],
   "source": [
    "df"
   ]
  },
  {
   "cell_type": "markdown",
   "metadata": {},
   "source": [
    "#### Dropping a row"
   ]
  },
  {
   "cell_type": "code",
   "execution_count": 32,
   "metadata": {},
   "outputs": [
    {
     "data": {
      "text/html": [
       "<div>\n",
       "<style scoped>\n",
       "    .dataframe tbody tr th:only-of-type {\n",
       "        vertical-align: middle;\n",
       "    }\n",
       "\n",
       "    .dataframe tbody tr th {\n",
       "        vertical-align: top;\n",
       "    }\n",
       "\n",
       "    .dataframe thead th {\n",
       "        text-align: right;\n",
       "    }\n",
       "</style>\n",
       "<table border=\"1\" class=\"dataframe\">\n",
       "  <thead>\n",
       "    <tr style=\"text-align: right;\">\n",
       "      <th></th>\n",
       "      <th>A</th>\n",
       "      <th>B</th>\n",
       "      <th>C</th>\n",
       "      <th>D</th>\n",
       "      <th>E</th>\n",
       "    </tr>\n",
       "  </thead>\n",
       "  <tbody>\n",
       "    <tr>\n",
       "      <th>L</th>\n",
       "      <td>0.480328</td>\n",
       "      <td>0.746819</td>\n",
       "      <td>0.008750</td>\n",
       "      <td>0.962353</td>\n",
       "      <td>0.750057</td>\n",
       "    </tr>\n",
       "    <tr>\n",
       "      <th>M</th>\n",
       "      <td>0.055304</td>\n",
       "      <td>0.529850</td>\n",
       "      <td>0.333361</td>\n",
       "      <td>0.442225</td>\n",
       "      <td>0.699968</td>\n",
       "    </tr>\n",
       "    <tr>\n",
       "      <th>N</th>\n",
       "      <td>0.737158</td>\n",
       "      <td>0.636782</td>\n",
       "      <td>0.858335</td>\n",
       "      <td>0.265443</td>\n",
       "      <td>0.249909</td>\n",
       "    </tr>\n",
       "    <tr>\n",
       "      <th>O</th>\n",
       "      <td>0.941004</td>\n",
       "      <td>0.113593</td>\n",
       "      <td>0.222881</td>\n",
       "      <td>0.166813</td>\n",
       "      <td>0.607160</td>\n",
       "    </tr>\n",
       "    <tr>\n",
       "      <th>P</th>\n",
       "      <td>0.035178</td>\n",
       "      <td>0.881748</td>\n",
       "      <td>0.341881</td>\n",
       "      <td>0.632840</td>\n",
       "      <td>0.466332</td>\n",
       "    </tr>\n",
       "  </tbody>\n",
       "</table>\n",
       "</div>"
      ],
      "text/plain": [
       "          A         B         C         D         E\n",
       "L  0.480328  0.746819  0.008750  0.962353  0.750057\n",
       "M  0.055304  0.529850  0.333361  0.442225  0.699968\n",
       "N  0.737158  0.636782  0.858335  0.265443  0.249909\n",
       "O  0.941004  0.113593  0.222881  0.166813  0.607160\n",
       "P  0.035178  0.881748  0.341881  0.632840  0.466332"
      ]
     },
     "execution_count": 32,
     "metadata": {},
     "output_type": "execute_result"
    }
   ],
   "source": [
    "df.drop('Q', axis = 0) # row no 'Q' is dropped"
   ]
  },
  {
   "cell_type": "markdown",
   "metadata": {},
   "source": [
    "## Conditional Selection and Checking"
   ]
  },
  {
   "cell_type": "code",
   "execution_count": 33,
   "metadata": {},
   "outputs": [
    {
     "data": {
      "text/html": [
       "<div>\n",
       "<style scoped>\n",
       "    .dataframe tbody tr th:only-of-type {\n",
       "        vertical-align: middle;\n",
       "    }\n",
       "\n",
       "    .dataframe tbody tr th {\n",
       "        vertical-align: top;\n",
       "    }\n",
       "\n",
       "    .dataframe thead th {\n",
       "        text-align: right;\n",
       "    }\n",
       "</style>\n",
       "<table border=\"1\" class=\"dataframe\">\n",
       "  <thead>\n",
       "    <tr style=\"text-align: right;\">\n",
       "      <th></th>\n",
       "      <th>A</th>\n",
       "      <th>B</th>\n",
       "      <th>C</th>\n",
       "      <th>D</th>\n",
       "      <th>E</th>\n",
       "    </tr>\n",
       "  </thead>\n",
       "  <tbody>\n",
       "    <tr>\n",
       "      <th>L</th>\n",
       "      <td>0.480328</td>\n",
       "      <td>0.746819</td>\n",
       "      <td>0.008750</td>\n",
       "      <td>0.962353</td>\n",
       "      <td>0.750057</td>\n",
       "    </tr>\n",
       "    <tr>\n",
       "      <th>M</th>\n",
       "      <td>0.055304</td>\n",
       "      <td>0.529850</td>\n",
       "      <td>0.333361</td>\n",
       "      <td>0.442225</td>\n",
       "      <td>0.699968</td>\n",
       "    </tr>\n",
       "    <tr>\n",
       "      <th>N</th>\n",
       "      <td>0.737158</td>\n",
       "      <td>0.636782</td>\n",
       "      <td>0.858335</td>\n",
       "      <td>0.265443</td>\n",
       "      <td>0.249909</td>\n",
       "    </tr>\n",
       "    <tr>\n",
       "      <th>O</th>\n",
       "      <td>0.941004</td>\n",
       "      <td>0.113593</td>\n",
       "      <td>0.222881</td>\n",
       "      <td>0.166813</td>\n",
       "      <td>0.607160</td>\n",
       "    </tr>\n",
       "    <tr>\n",
       "      <th>P</th>\n",
       "      <td>0.035178</td>\n",
       "      <td>0.881748</td>\n",
       "      <td>0.341881</td>\n",
       "      <td>0.632840</td>\n",
       "      <td>0.466332</td>\n",
       "    </tr>\n",
       "    <tr>\n",
       "      <th>Q</th>\n",
       "      <td>0.465565</td>\n",
       "      <td>0.841118</td>\n",
       "      <td>0.123143</td>\n",
       "      <td>0.659726</td>\n",
       "      <td>0.893599</td>\n",
       "    </tr>\n",
       "  </tbody>\n",
       "</table>\n",
       "</div>"
      ],
      "text/plain": [
       "          A         B         C         D         E\n",
       "L  0.480328  0.746819  0.008750  0.962353  0.750057\n",
       "M  0.055304  0.529850  0.333361  0.442225  0.699968\n",
       "N  0.737158  0.636782  0.858335  0.265443  0.249909\n",
       "O  0.941004  0.113593  0.222881  0.166813  0.607160\n",
       "P  0.035178  0.881748  0.341881  0.632840  0.466332\n",
       "Q  0.465565  0.841118  0.123143  0.659726  0.893599"
      ]
     },
     "execution_count": 33,
     "metadata": {},
     "output_type": "execute_result"
    }
   ],
   "source": [
    "df"
   ]
  },
  {
   "cell_type": "code",
   "execution_count": 34,
   "metadata": {},
   "outputs": [
    {
     "data": {
      "text/html": [
       "<div>\n",
       "<style scoped>\n",
       "    .dataframe tbody tr th:only-of-type {\n",
       "        vertical-align: middle;\n",
       "    }\n",
       "\n",
       "    .dataframe tbody tr th {\n",
       "        vertical-align: top;\n",
       "    }\n",
       "\n",
       "    .dataframe thead th {\n",
       "        text-align: right;\n",
       "    }\n",
       "</style>\n",
       "<table border=\"1\" class=\"dataframe\">\n",
       "  <thead>\n",
       "    <tr style=\"text-align: right;\">\n",
       "      <th></th>\n",
       "      <th>A</th>\n",
       "      <th>B</th>\n",
       "      <th>C</th>\n",
       "      <th>D</th>\n",
       "      <th>E</th>\n",
       "    </tr>\n",
       "  </thead>\n",
       "  <tbody>\n",
       "    <tr>\n",
       "      <th>L</th>\n",
       "      <td>True</td>\n",
       "      <td>True</td>\n",
       "      <td>False</td>\n",
       "      <td>True</td>\n",
       "      <td>True</td>\n",
       "    </tr>\n",
       "    <tr>\n",
       "      <th>M</th>\n",
       "      <td>False</td>\n",
       "      <td>True</td>\n",
       "      <td>True</td>\n",
       "      <td>True</td>\n",
       "      <td>True</td>\n",
       "    </tr>\n",
       "    <tr>\n",
       "      <th>N</th>\n",
       "      <td>True</td>\n",
       "      <td>True</td>\n",
       "      <td>True</td>\n",
       "      <td>False</td>\n",
       "      <td>False</td>\n",
       "    </tr>\n",
       "    <tr>\n",
       "      <th>O</th>\n",
       "      <td>True</td>\n",
       "      <td>False</td>\n",
       "      <td>False</td>\n",
       "      <td>False</td>\n",
       "      <td>True</td>\n",
       "    </tr>\n",
       "    <tr>\n",
       "      <th>P</th>\n",
       "      <td>False</td>\n",
       "      <td>True</td>\n",
       "      <td>True</td>\n",
       "      <td>True</td>\n",
       "      <td>True</td>\n",
       "    </tr>\n",
       "    <tr>\n",
       "      <th>Q</th>\n",
       "      <td>True</td>\n",
       "      <td>True</td>\n",
       "      <td>False</td>\n",
       "      <td>True</td>\n",
       "      <td>True</td>\n",
       "    </tr>\n",
       "  </tbody>\n",
       "</table>\n",
       "</div>"
      ],
      "text/plain": [
       "       A      B      C      D      E\n",
       "L   True   True  False   True   True\n",
       "M  False   True   True   True   True\n",
       "N   True   True   True  False  False\n",
       "O   True  False  False  False   True\n",
       "P  False   True   True   True   True\n",
       "Q   True   True  False   True   True"
      ]
     },
     "execution_count": 34,
     "metadata": {},
     "output_type": "execute_result"
    }
   ],
   "source": [
    "df > 0.3"
   ]
  },
  {
   "cell_type": "code",
   "execution_count": 35,
   "metadata": {},
   "outputs": [
    {
     "data": {
      "text/html": [
       "<div>\n",
       "<style scoped>\n",
       "    .dataframe tbody tr th:only-of-type {\n",
       "        vertical-align: middle;\n",
       "    }\n",
       "\n",
       "    .dataframe tbody tr th {\n",
       "        vertical-align: top;\n",
       "    }\n",
       "\n",
       "    .dataframe thead th {\n",
       "        text-align: right;\n",
       "    }\n",
       "</style>\n",
       "<table border=\"1\" class=\"dataframe\">\n",
       "  <thead>\n",
       "    <tr style=\"text-align: right;\">\n",
       "      <th></th>\n",
       "      <th>A</th>\n",
       "      <th>B</th>\n",
       "      <th>C</th>\n",
       "      <th>D</th>\n",
       "      <th>E</th>\n",
       "    </tr>\n",
       "  </thead>\n",
       "  <tbody>\n",
       "    <tr>\n",
       "      <th>L</th>\n",
       "      <td>0.480328</td>\n",
       "      <td>0.746819</td>\n",
       "      <td>NaN</td>\n",
       "      <td>0.962353</td>\n",
       "      <td>0.750057</td>\n",
       "    </tr>\n",
       "    <tr>\n",
       "      <th>M</th>\n",
       "      <td>NaN</td>\n",
       "      <td>0.529850</td>\n",
       "      <td>0.333361</td>\n",
       "      <td>0.442225</td>\n",
       "      <td>0.699968</td>\n",
       "    </tr>\n",
       "    <tr>\n",
       "      <th>N</th>\n",
       "      <td>0.737158</td>\n",
       "      <td>0.636782</td>\n",
       "      <td>0.858335</td>\n",
       "      <td>NaN</td>\n",
       "      <td>NaN</td>\n",
       "    </tr>\n",
       "    <tr>\n",
       "      <th>O</th>\n",
       "      <td>0.941004</td>\n",
       "      <td>NaN</td>\n",
       "      <td>NaN</td>\n",
       "      <td>NaN</td>\n",
       "      <td>0.607160</td>\n",
       "    </tr>\n",
       "    <tr>\n",
       "      <th>P</th>\n",
       "      <td>NaN</td>\n",
       "      <td>0.881748</td>\n",
       "      <td>0.341881</td>\n",
       "      <td>0.632840</td>\n",
       "      <td>0.466332</td>\n",
       "    </tr>\n",
       "    <tr>\n",
       "      <th>Q</th>\n",
       "      <td>0.465565</td>\n",
       "      <td>0.841118</td>\n",
       "      <td>NaN</td>\n",
       "      <td>0.659726</td>\n",
       "      <td>0.893599</td>\n",
       "    </tr>\n",
       "  </tbody>\n",
       "</table>\n",
       "</div>"
      ],
      "text/plain": [
       "          A         B         C         D         E\n",
       "L  0.480328  0.746819       NaN  0.962353  0.750057\n",
       "M       NaN  0.529850  0.333361  0.442225  0.699968\n",
       "N  0.737158  0.636782  0.858335       NaN       NaN\n",
       "O  0.941004       NaN       NaN       NaN  0.607160\n",
       "P       NaN  0.881748  0.341881  0.632840  0.466332\n",
       "Q  0.465565  0.841118       NaN  0.659726  0.893599"
      ]
     },
     "execution_count": 35,
     "metadata": {},
     "output_type": "execute_result"
    }
   ],
   "source": [
    "df[df > 0.3] #conditional checking with data frames"
   ]
  },
  {
   "cell_type": "code",
   "execution_count": 36,
   "metadata": {},
   "outputs": [
    {
     "data": {
      "text/plain": [
       "L    0.480328\n",
       "M    0.055304\n",
       "N    0.737158\n",
       "O    0.941004\n",
       "P    0.035178\n",
       "Q    0.465565\n",
       "Name: A, dtype: float64"
      ]
     },
     "execution_count": 36,
     "metadata": {},
     "output_type": "execute_result"
    }
   ],
   "source": [
    "df['A']"
   ]
  },
  {
   "cell_type": "code",
   "execution_count": 37,
   "metadata": {},
   "outputs": [
    {
     "data": {
      "text/plain": [
       "L    False\n",
       "M    False\n",
       "N     True\n",
       "O     True\n",
       "P    False\n",
       "Q    False\n",
       "Name: A, dtype: bool"
      ]
     },
     "execution_count": 37,
     "metadata": {},
     "output_type": "execute_result"
    }
   ],
   "source": [
    "df['A'] > .5"
   ]
  },
  {
   "cell_type": "code",
   "execution_count": 38,
   "metadata": {},
   "outputs": [
    {
     "data": {
      "text/html": [
       "<div>\n",
       "<style scoped>\n",
       "    .dataframe tbody tr th:only-of-type {\n",
       "        vertical-align: middle;\n",
       "    }\n",
       "\n",
       "    .dataframe tbody tr th {\n",
       "        vertical-align: top;\n",
       "    }\n",
       "\n",
       "    .dataframe thead th {\n",
       "        text-align: right;\n",
       "    }\n",
       "</style>\n",
       "<table border=\"1\" class=\"dataframe\">\n",
       "  <thead>\n",
       "    <tr style=\"text-align: right;\">\n",
       "      <th></th>\n",
       "      <th>A</th>\n",
       "      <th>B</th>\n",
       "      <th>C</th>\n",
       "      <th>D</th>\n",
       "      <th>E</th>\n",
       "    </tr>\n",
       "  </thead>\n",
       "  <tbody>\n",
       "    <tr>\n",
       "      <th>N</th>\n",
       "      <td>0.737158</td>\n",
       "      <td>0.636782</td>\n",
       "      <td>0.858335</td>\n",
       "      <td>0.265443</td>\n",
       "      <td>0.249909</td>\n",
       "    </tr>\n",
       "    <tr>\n",
       "      <th>O</th>\n",
       "      <td>0.941004</td>\n",
       "      <td>0.113593</td>\n",
       "      <td>0.222881</td>\n",
       "      <td>0.166813</td>\n",
       "      <td>0.607160</td>\n",
       "    </tr>\n",
       "  </tbody>\n",
       "</table>\n",
       "</div>"
      ],
      "text/plain": [
       "          A         B         C         D         E\n",
       "N  0.737158  0.636782  0.858335  0.265443  0.249909\n",
       "O  0.941004  0.113593  0.222881  0.166813  0.607160"
      ]
     },
     "execution_count": 38,
     "metadata": {},
     "output_type": "execute_result"
    }
   ],
   "source": [
    "df[df['A'] > .5]"
   ]
  },
  {
   "cell_type": "code",
   "execution_count": 39,
   "metadata": {},
   "outputs": [
    {
     "data": {
      "text/plain": [
       "N    0.265443\n",
       "O    0.166813\n",
       "Name: D, dtype: float64"
      ]
     },
     "execution_count": 39,
     "metadata": {},
     "output_type": "execute_result"
    }
   ],
   "source": [
    "df[df['A'] > .5]['D']"
   ]
  },
  {
   "cell_type": "code",
   "execution_count": 40,
   "metadata": {},
   "outputs": [
    {
     "data": {
      "text/html": [
       "<div>\n",
       "<style scoped>\n",
       "    .dataframe tbody tr th:only-of-type {\n",
       "        vertical-align: middle;\n",
       "    }\n",
       "\n",
       "    .dataframe tbody tr th {\n",
       "        vertical-align: top;\n",
       "    }\n",
       "\n",
       "    .dataframe thead th {\n",
       "        text-align: right;\n",
       "    }\n",
       "</style>\n",
       "<table border=\"1\" class=\"dataframe\">\n",
       "  <thead>\n",
       "    <tr style=\"text-align: right;\">\n",
       "      <th></th>\n",
       "      <th>D</th>\n",
       "      <th>E</th>\n",
       "    </tr>\n",
       "  </thead>\n",
       "  <tbody>\n",
       "    <tr>\n",
       "      <th>N</th>\n",
       "      <td>0.265443</td>\n",
       "      <td>0.249909</td>\n",
       "    </tr>\n",
       "    <tr>\n",
       "      <th>O</th>\n",
       "      <td>0.166813</td>\n",
       "      <td>0.607160</td>\n",
       "    </tr>\n",
       "  </tbody>\n",
       "</table>\n",
       "</div>"
      ],
      "text/plain": [
       "          D         E\n",
       "N  0.265443  0.249909\n",
       "O  0.166813  0.607160"
      ]
     },
     "execution_count": 40,
     "metadata": {},
     "output_type": "execute_result"
    }
   ],
   "source": [
    "df[df['A'] > .5][['D','E']]"
   ]
  },
  {
   "cell_type": "code",
   "execution_count": 41,
   "metadata": {},
   "outputs": [
    {
     "data": {
      "text/html": [
       "<div>\n",
       "<style scoped>\n",
       "    .dataframe tbody tr th:only-of-type {\n",
       "        vertical-align: middle;\n",
       "    }\n",
       "\n",
       "    .dataframe tbody tr th {\n",
       "        vertical-align: top;\n",
       "    }\n",
       "\n",
       "    .dataframe thead th {\n",
       "        text-align: right;\n",
       "    }\n",
       "</style>\n",
       "<table border=\"1\" class=\"dataframe\">\n",
       "  <thead>\n",
       "    <tr style=\"text-align: right;\">\n",
       "      <th></th>\n",
       "      <th>D</th>\n",
       "      <th>E</th>\n",
       "    </tr>\n",
       "  </thead>\n",
       "  <tbody>\n",
       "    <tr>\n",
       "      <th>N</th>\n",
       "      <td>0.265443</td>\n",
       "      <td>0.249909</td>\n",
       "    </tr>\n",
       "    <tr>\n",
       "      <th>O</th>\n",
       "      <td>0.166813</td>\n",
       "      <td>0.607160</td>\n",
       "    </tr>\n",
       "  </tbody>\n",
       "</table>\n",
       "</div>"
      ],
      "text/plain": [
       "          D         E\n",
       "N  0.265443  0.249909\n",
       "O  0.166813  0.607160"
      ]
     },
     "execution_count": 41,
     "metadata": {},
     "output_type": "execute_result"
    }
   ],
   "source": [
    "condtn1 = df['A'] > .5\n",
    "val = df[condtn1]\n",
    "val[['D','E']]"
   ]
  },
  {
   "cell_type": "markdown",
   "metadata": {},
   "source": [
    "#### Multiple Condition checking"
   ]
  },
  {
   "cell_type": "code",
   "execution_count": 42,
   "metadata": {},
   "outputs": [
    {
     "data": {
      "text/html": [
       "<div>\n",
       "<style scoped>\n",
       "    .dataframe tbody tr th:only-of-type {\n",
       "        vertical-align: middle;\n",
       "    }\n",
       "\n",
       "    .dataframe tbody tr th {\n",
       "        vertical-align: top;\n",
       "    }\n",
       "\n",
       "    .dataframe thead th {\n",
       "        text-align: right;\n",
       "    }\n",
       "</style>\n",
       "<table border=\"1\" class=\"dataframe\">\n",
       "  <thead>\n",
       "    <tr style=\"text-align: right;\">\n",
       "      <th></th>\n",
       "      <th>A</th>\n",
       "      <th>B</th>\n",
       "      <th>C</th>\n",
       "      <th>D</th>\n",
       "      <th>E</th>\n",
       "    </tr>\n",
       "  </thead>\n",
       "  <tbody>\n",
       "    <tr>\n",
       "      <th>L</th>\n",
       "      <td>0.480328</td>\n",
       "      <td>0.746819</td>\n",
       "      <td>0.008750</td>\n",
       "      <td>0.962353</td>\n",
       "      <td>0.750057</td>\n",
       "    </tr>\n",
       "    <tr>\n",
       "      <th>M</th>\n",
       "      <td>0.055304</td>\n",
       "      <td>0.529850</td>\n",
       "      <td>0.333361</td>\n",
       "      <td>0.442225</td>\n",
       "      <td>0.699968</td>\n",
       "    </tr>\n",
       "    <tr>\n",
       "      <th>N</th>\n",
       "      <td>0.737158</td>\n",
       "      <td>0.636782</td>\n",
       "      <td>0.858335</td>\n",
       "      <td>0.265443</td>\n",
       "      <td>0.249909</td>\n",
       "    </tr>\n",
       "    <tr>\n",
       "      <th>O</th>\n",
       "      <td>0.941004</td>\n",
       "      <td>0.113593</td>\n",
       "      <td>0.222881</td>\n",
       "      <td>0.166813</td>\n",
       "      <td>0.607160</td>\n",
       "    </tr>\n",
       "    <tr>\n",
       "      <th>P</th>\n",
       "      <td>0.035178</td>\n",
       "      <td>0.881748</td>\n",
       "      <td>0.341881</td>\n",
       "      <td>0.632840</td>\n",
       "      <td>0.466332</td>\n",
       "    </tr>\n",
       "    <tr>\n",
       "      <th>Q</th>\n",
       "      <td>0.465565</td>\n",
       "      <td>0.841118</td>\n",
       "      <td>0.123143</td>\n",
       "      <td>0.659726</td>\n",
       "      <td>0.893599</td>\n",
       "    </tr>\n",
       "  </tbody>\n",
       "</table>\n",
       "</div>"
      ],
      "text/plain": [
       "          A         B         C         D         E\n",
       "L  0.480328  0.746819  0.008750  0.962353  0.750057\n",
       "M  0.055304  0.529850  0.333361  0.442225  0.699968\n",
       "N  0.737158  0.636782  0.858335  0.265443  0.249909\n",
       "O  0.941004  0.113593  0.222881  0.166813  0.607160\n",
       "P  0.035178  0.881748  0.341881  0.632840  0.466332\n",
       "Q  0.465565  0.841118  0.123143  0.659726  0.893599"
      ]
     },
     "execution_count": 42,
     "metadata": {},
     "output_type": "execute_result"
    }
   ],
   "source": [
    "df"
   ]
  },
  {
   "cell_type": "code",
   "execution_count": 43,
   "metadata": {},
   "outputs": [
    {
     "data": {
      "text/html": [
       "<div>\n",
       "<style scoped>\n",
       "    .dataframe tbody tr th:only-of-type {\n",
       "        vertical-align: middle;\n",
       "    }\n",
       "\n",
       "    .dataframe tbody tr th {\n",
       "        vertical-align: top;\n",
       "    }\n",
       "\n",
       "    .dataframe thead th {\n",
       "        text-align: right;\n",
       "    }\n",
       "</style>\n",
       "<table border=\"1\" class=\"dataframe\">\n",
       "  <thead>\n",
       "    <tr style=\"text-align: right;\">\n",
       "      <th></th>\n",
       "      <th>A</th>\n",
       "      <th>B</th>\n",
       "      <th>C</th>\n",
       "      <th>D</th>\n",
       "      <th>E</th>\n",
       "    </tr>\n",
       "  </thead>\n",
       "  <tbody>\n",
       "    <tr>\n",
       "      <th>N</th>\n",
       "      <td>0.737158</td>\n",
       "      <td>0.636782</td>\n",
       "      <td>0.858335</td>\n",
       "      <td>0.265443</td>\n",
       "      <td>0.249909</td>\n",
       "    </tr>\n",
       "    <tr>\n",
       "      <th>O</th>\n",
       "      <td>0.941004</td>\n",
       "      <td>0.113593</td>\n",
       "      <td>0.222881</td>\n",
       "      <td>0.166813</td>\n",
       "      <td>0.607160</td>\n",
       "    </tr>\n",
       "  </tbody>\n",
       "</table>\n",
       "</div>"
      ],
      "text/plain": [
       "          A         B         C         D         E\n",
       "N  0.737158  0.636782  0.858335  0.265443  0.249909\n",
       "O  0.941004  0.113593  0.222881  0.166813  0.607160"
      ]
     },
     "execution_count": 43,
     "metadata": {},
     "output_type": "execute_result"
    }
   ],
   "source": [
    "df[df['A'] > .5]"
   ]
  },
  {
   "cell_type": "code",
   "execution_count": 44,
   "metadata": {},
   "outputs": [
    {
     "ename": "ValueError",
     "evalue": "The truth value of a Series is ambiguous. Use a.empty, a.bool(), a.item(), a.any() or a.all().",
     "output_type": "error",
     "traceback": [
      "\u001b[0;31m---------------------------------------------------------------------------\u001b[0m",
      "\u001b[0;31mValueError\u001b[0m                                Traceback (most recent call last)",
      "\u001b[0;32m<ipython-input-44-4ed41895baab>\u001b[0m in \u001b[0;36m<module>\u001b[0;34m\u001b[0m\n\u001b[0;32m----> 1\u001b[0;31m \u001b[0mdf\u001b[0m\u001b[0;34m[\u001b[0m\u001b[0;34m(\u001b[0m\u001b[0mdf\u001b[0m\u001b[0;34m[\u001b[0m\u001b[0;34m'A'\u001b[0m\u001b[0;34m]\u001b[0m \u001b[0;34m>\u001b[0m \u001b[0;36m.5\u001b[0m\u001b[0;34m)\u001b[0m \u001b[0;32mand\u001b[0m \u001b[0;34m(\u001b[0m\u001b[0mdf\u001b[0m\u001b[0;34m[\u001b[0m\u001b[0;34m'E'\u001b[0m\u001b[0;34m]\u001b[0m \u001b[0;34m<\u001b[0m \u001b[0;36m.3\u001b[0m\u001b[0;34m)\u001b[0m\u001b[0;34m]\u001b[0m \u001b[0;31m#and operator used only for single True and False checking\u001b[0m\u001b[0;34m\u001b[0m\u001b[0;34m\u001b[0m\u001b[0m\n\u001b[0m",
      "\u001b[0;32m~/opt/anaconda3/lib/python3.7/site-packages/pandas/core/generic.py\u001b[0m in \u001b[0;36m__nonzero__\u001b[0;34m(self)\u001b[0m\n\u001b[1;32m   1477\u001b[0m     \u001b[0;32mdef\u001b[0m \u001b[0m__nonzero__\u001b[0m\u001b[0;34m(\u001b[0m\u001b[0mself\u001b[0m\u001b[0;34m)\u001b[0m\u001b[0;34m:\u001b[0m\u001b[0;34m\u001b[0m\u001b[0;34m\u001b[0m\u001b[0m\n\u001b[1;32m   1478\u001b[0m         raise ValueError(\n\u001b[0;32m-> 1479\u001b[0;31m             \u001b[0;34mf\"The truth value of a {type(self).__name__} is ambiguous. \"\u001b[0m\u001b[0;34m\u001b[0m\u001b[0;34m\u001b[0m\u001b[0m\n\u001b[0m\u001b[1;32m   1480\u001b[0m             \u001b[0;34m\"Use a.empty, a.bool(), a.item(), a.any() or a.all().\"\u001b[0m\u001b[0;34m\u001b[0m\u001b[0;34m\u001b[0m\u001b[0m\n\u001b[1;32m   1481\u001b[0m         )\n",
      "\u001b[0;31mValueError\u001b[0m: The truth value of a Series is ambiguous. Use a.empty, a.bool(), a.item(), a.any() or a.all()."
     ]
    }
   ],
   "source": [
    "df[(df['A'] > .5) and (df['E'] < .3)] #and operator used only for single True and False checking "
   ]
  },
  {
   "cell_type": "code",
   "execution_count": 45,
   "metadata": {},
   "outputs": [
    {
     "data": {
      "text/plain": [
       "False"
      ]
     },
     "execution_count": 45,
     "metadata": {},
     "output_type": "execute_result"
    }
   ],
   "source": [
    "True and False"
   ]
  },
  {
   "cell_type": "code",
   "execution_count": 46,
   "metadata": {},
   "outputs": [
    {
     "data": {
      "text/html": [
       "<div>\n",
       "<style scoped>\n",
       "    .dataframe tbody tr th:only-of-type {\n",
       "        vertical-align: middle;\n",
       "    }\n",
       "\n",
       "    .dataframe tbody tr th {\n",
       "        vertical-align: top;\n",
       "    }\n",
       "\n",
       "    .dataframe thead th {\n",
       "        text-align: right;\n",
       "    }\n",
       "</style>\n",
       "<table border=\"1\" class=\"dataframe\">\n",
       "  <thead>\n",
       "    <tr style=\"text-align: right;\">\n",
       "      <th></th>\n",
       "      <th>A</th>\n",
       "      <th>B</th>\n",
       "      <th>C</th>\n",
       "      <th>D</th>\n",
       "      <th>E</th>\n",
       "    </tr>\n",
       "  </thead>\n",
       "  <tbody>\n",
       "    <tr>\n",
       "      <th>N</th>\n",
       "      <td>0.737158</td>\n",
       "      <td>0.636782</td>\n",
       "      <td>0.858335</td>\n",
       "      <td>0.265443</td>\n",
       "      <td>0.249909</td>\n",
       "    </tr>\n",
       "  </tbody>\n",
       "</table>\n",
       "</div>"
      ],
      "text/plain": [
       "          A         B         C         D         E\n",
       "N  0.737158  0.636782  0.858335  0.265443  0.249909"
      ]
     },
     "execution_count": 46,
     "metadata": {},
     "output_type": "execute_result"
    }
   ],
   "source": [
    "df[(df['A'] > .5) & (df['E'] < .3)] "
   ]
  },
  {
   "cell_type": "code",
   "execution_count": 47,
   "metadata": {},
   "outputs": [
    {
     "data": {
      "text/html": [
       "<div>\n",
       "<style scoped>\n",
       "    .dataframe tbody tr th:only-of-type {\n",
       "        vertical-align: middle;\n",
       "    }\n",
       "\n",
       "    .dataframe tbody tr th {\n",
       "        vertical-align: top;\n",
       "    }\n",
       "\n",
       "    .dataframe thead th {\n",
       "        text-align: right;\n",
       "    }\n",
       "</style>\n",
       "<table border=\"1\" class=\"dataframe\">\n",
       "  <thead>\n",
       "    <tr style=\"text-align: right;\">\n",
       "      <th></th>\n",
       "      <th>A</th>\n",
       "      <th>B</th>\n",
       "      <th>C</th>\n",
       "      <th>D</th>\n",
       "      <th>E</th>\n",
       "    </tr>\n",
       "  </thead>\n",
       "  <tbody>\n",
       "    <tr>\n",
       "      <th>N</th>\n",
       "      <td>0.737158</td>\n",
       "      <td>0.636782</td>\n",
       "      <td>0.858335</td>\n",
       "      <td>0.265443</td>\n",
       "      <td>0.249909</td>\n",
       "    </tr>\n",
       "    <tr>\n",
       "      <th>O</th>\n",
       "      <td>0.941004</td>\n",
       "      <td>0.113593</td>\n",
       "      <td>0.222881</td>\n",
       "      <td>0.166813</td>\n",
       "      <td>0.607160</td>\n",
       "    </tr>\n",
       "  </tbody>\n",
       "</table>\n",
       "</div>"
      ],
      "text/plain": [
       "          A         B         C         D         E\n",
       "N  0.737158  0.636782  0.858335  0.265443  0.249909\n",
       "O  0.941004  0.113593  0.222881  0.166813  0.607160"
      ]
     },
     "execution_count": 47,
     "metadata": {},
     "output_type": "execute_result"
    }
   ],
   "source": [
    "df[(df['A'] > .5) | (df['E'] < .3)] "
   ]
  },
  {
   "cell_type": "markdown",
   "metadata": {},
   "source": [
    "## Reseting any Index in data frame"
   ]
  },
  {
   "cell_type": "code",
   "execution_count": 48,
   "metadata": {},
   "outputs": [
    {
     "data": {
      "text/html": [
       "<div>\n",
       "<style scoped>\n",
       "    .dataframe tbody tr th:only-of-type {\n",
       "        vertical-align: middle;\n",
       "    }\n",
       "\n",
       "    .dataframe tbody tr th {\n",
       "        vertical-align: top;\n",
       "    }\n",
       "\n",
       "    .dataframe thead th {\n",
       "        text-align: right;\n",
       "    }\n",
       "</style>\n",
       "<table border=\"1\" class=\"dataframe\">\n",
       "  <thead>\n",
       "    <tr style=\"text-align: right;\">\n",
       "      <th></th>\n",
       "      <th>A</th>\n",
       "      <th>B</th>\n",
       "      <th>C</th>\n",
       "      <th>D</th>\n",
       "      <th>E</th>\n",
       "    </tr>\n",
       "  </thead>\n",
       "  <tbody>\n",
       "    <tr>\n",
       "      <th>L</th>\n",
       "      <td>0.480328</td>\n",
       "      <td>0.746819</td>\n",
       "      <td>0.008750</td>\n",
       "      <td>0.962353</td>\n",
       "      <td>0.750057</td>\n",
       "    </tr>\n",
       "    <tr>\n",
       "      <th>M</th>\n",
       "      <td>0.055304</td>\n",
       "      <td>0.529850</td>\n",
       "      <td>0.333361</td>\n",
       "      <td>0.442225</td>\n",
       "      <td>0.699968</td>\n",
       "    </tr>\n",
       "    <tr>\n",
       "      <th>N</th>\n",
       "      <td>0.737158</td>\n",
       "      <td>0.636782</td>\n",
       "      <td>0.858335</td>\n",
       "      <td>0.265443</td>\n",
       "      <td>0.249909</td>\n",
       "    </tr>\n",
       "    <tr>\n",
       "      <th>O</th>\n",
       "      <td>0.941004</td>\n",
       "      <td>0.113593</td>\n",
       "      <td>0.222881</td>\n",
       "      <td>0.166813</td>\n",
       "      <td>0.607160</td>\n",
       "    </tr>\n",
       "    <tr>\n",
       "      <th>P</th>\n",
       "      <td>0.035178</td>\n",
       "      <td>0.881748</td>\n",
       "      <td>0.341881</td>\n",
       "      <td>0.632840</td>\n",
       "      <td>0.466332</td>\n",
       "    </tr>\n",
       "    <tr>\n",
       "      <th>Q</th>\n",
       "      <td>0.465565</td>\n",
       "      <td>0.841118</td>\n",
       "      <td>0.123143</td>\n",
       "      <td>0.659726</td>\n",
       "      <td>0.893599</td>\n",
       "    </tr>\n",
       "  </tbody>\n",
       "</table>\n",
       "</div>"
      ],
      "text/plain": [
       "          A         B         C         D         E\n",
       "L  0.480328  0.746819  0.008750  0.962353  0.750057\n",
       "M  0.055304  0.529850  0.333361  0.442225  0.699968\n",
       "N  0.737158  0.636782  0.858335  0.265443  0.249909\n",
       "O  0.941004  0.113593  0.222881  0.166813  0.607160\n",
       "P  0.035178  0.881748  0.341881  0.632840  0.466332\n",
       "Q  0.465565  0.841118  0.123143  0.659726  0.893599"
      ]
     },
     "execution_count": 48,
     "metadata": {},
     "output_type": "execute_result"
    }
   ],
   "source": [
    "df"
   ]
  },
  {
   "cell_type": "code",
   "execution_count": 49,
   "metadata": {},
   "outputs": [
    {
     "data": {
      "text/html": [
       "<div>\n",
       "<style scoped>\n",
       "    .dataframe tbody tr th:only-of-type {\n",
       "        vertical-align: middle;\n",
       "    }\n",
       "\n",
       "    .dataframe tbody tr th {\n",
       "        vertical-align: top;\n",
       "    }\n",
       "\n",
       "    .dataframe thead th {\n",
       "        text-align: right;\n",
       "    }\n",
       "</style>\n",
       "<table border=\"1\" class=\"dataframe\">\n",
       "  <thead>\n",
       "    <tr style=\"text-align: right;\">\n",
       "      <th></th>\n",
       "      <th>index</th>\n",
       "      <th>A</th>\n",
       "      <th>B</th>\n",
       "      <th>C</th>\n",
       "      <th>D</th>\n",
       "      <th>E</th>\n",
       "    </tr>\n",
       "  </thead>\n",
       "  <tbody>\n",
       "    <tr>\n",
       "      <th>0</th>\n",
       "      <td>L</td>\n",
       "      <td>0.480328</td>\n",
       "      <td>0.746819</td>\n",
       "      <td>0.008750</td>\n",
       "      <td>0.962353</td>\n",
       "      <td>0.750057</td>\n",
       "    </tr>\n",
       "    <tr>\n",
       "      <th>1</th>\n",
       "      <td>M</td>\n",
       "      <td>0.055304</td>\n",
       "      <td>0.529850</td>\n",
       "      <td>0.333361</td>\n",
       "      <td>0.442225</td>\n",
       "      <td>0.699968</td>\n",
       "    </tr>\n",
       "    <tr>\n",
       "      <th>2</th>\n",
       "      <td>N</td>\n",
       "      <td>0.737158</td>\n",
       "      <td>0.636782</td>\n",
       "      <td>0.858335</td>\n",
       "      <td>0.265443</td>\n",
       "      <td>0.249909</td>\n",
       "    </tr>\n",
       "    <tr>\n",
       "      <th>3</th>\n",
       "      <td>O</td>\n",
       "      <td>0.941004</td>\n",
       "      <td>0.113593</td>\n",
       "      <td>0.222881</td>\n",
       "      <td>0.166813</td>\n",
       "      <td>0.607160</td>\n",
       "    </tr>\n",
       "    <tr>\n",
       "      <th>4</th>\n",
       "      <td>P</td>\n",
       "      <td>0.035178</td>\n",
       "      <td>0.881748</td>\n",
       "      <td>0.341881</td>\n",
       "      <td>0.632840</td>\n",
       "      <td>0.466332</td>\n",
       "    </tr>\n",
       "    <tr>\n",
       "      <th>5</th>\n",
       "      <td>Q</td>\n",
       "      <td>0.465565</td>\n",
       "      <td>0.841118</td>\n",
       "      <td>0.123143</td>\n",
       "      <td>0.659726</td>\n",
       "      <td>0.893599</td>\n",
       "    </tr>\n",
       "  </tbody>\n",
       "</table>\n",
       "</div>"
      ],
      "text/plain": [
       "  index         A         B         C         D         E\n",
       "0     L  0.480328  0.746819  0.008750  0.962353  0.750057\n",
       "1     M  0.055304  0.529850  0.333361  0.442225  0.699968\n",
       "2     N  0.737158  0.636782  0.858335  0.265443  0.249909\n",
       "3     O  0.941004  0.113593  0.222881  0.166813  0.607160\n",
       "4     P  0.035178  0.881748  0.341881  0.632840  0.466332\n",
       "5     Q  0.465565  0.841118  0.123143  0.659726  0.893599"
      ]
     },
     "execution_count": 49,
     "metadata": {},
     "output_type": "execute_result"
    }
   ],
   "source": [
    "df.reset_index()"
   ]
  },
  {
   "cell_type": "markdown",
   "metadata": {},
   "source": [
    "## Seting any coloumn as an index"
   ]
  },
  {
   "cell_type": "code",
   "execution_count": 50,
   "metadata": {},
   "outputs": [],
   "source": [
    "new_df = df.reset_index()"
   ]
  },
  {
   "cell_type": "code",
   "execution_count": 51,
   "metadata": {},
   "outputs": [
    {
     "data": {
      "text/html": [
       "<div>\n",
       "<style scoped>\n",
       "    .dataframe tbody tr th:only-of-type {\n",
       "        vertical-align: middle;\n",
       "    }\n",
       "\n",
       "    .dataframe tbody tr th {\n",
       "        vertical-align: top;\n",
       "    }\n",
       "\n",
       "    .dataframe thead th {\n",
       "        text-align: right;\n",
       "    }\n",
       "</style>\n",
       "<table border=\"1\" class=\"dataframe\">\n",
       "  <thead>\n",
       "    <tr style=\"text-align: right;\">\n",
       "      <th></th>\n",
       "      <th>index</th>\n",
       "      <th>A</th>\n",
       "      <th>B</th>\n",
       "      <th>C</th>\n",
       "      <th>D</th>\n",
       "      <th>E</th>\n",
       "    </tr>\n",
       "  </thead>\n",
       "  <tbody>\n",
       "    <tr>\n",
       "      <th>0</th>\n",
       "      <td>L</td>\n",
       "      <td>0.480328</td>\n",
       "      <td>0.746819</td>\n",
       "      <td>0.008750</td>\n",
       "      <td>0.962353</td>\n",
       "      <td>0.750057</td>\n",
       "    </tr>\n",
       "    <tr>\n",
       "      <th>1</th>\n",
       "      <td>M</td>\n",
       "      <td>0.055304</td>\n",
       "      <td>0.529850</td>\n",
       "      <td>0.333361</td>\n",
       "      <td>0.442225</td>\n",
       "      <td>0.699968</td>\n",
       "    </tr>\n",
       "    <tr>\n",
       "      <th>2</th>\n",
       "      <td>N</td>\n",
       "      <td>0.737158</td>\n",
       "      <td>0.636782</td>\n",
       "      <td>0.858335</td>\n",
       "      <td>0.265443</td>\n",
       "      <td>0.249909</td>\n",
       "    </tr>\n",
       "    <tr>\n",
       "      <th>3</th>\n",
       "      <td>O</td>\n",
       "      <td>0.941004</td>\n",
       "      <td>0.113593</td>\n",
       "      <td>0.222881</td>\n",
       "      <td>0.166813</td>\n",
       "      <td>0.607160</td>\n",
       "    </tr>\n",
       "    <tr>\n",
       "      <th>4</th>\n",
       "      <td>P</td>\n",
       "      <td>0.035178</td>\n",
       "      <td>0.881748</td>\n",
       "      <td>0.341881</td>\n",
       "      <td>0.632840</td>\n",
       "      <td>0.466332</td>\n",
       "    </tr>\n",
       "    <tr>\n",
       "      <th>5</th>\n",
       "      <td>Q</td>\n",
       "      <td>0.465565</td>\n",
       "      <td>0.841118</td>\n",
       "      <td>0.123143</td>\n",
       "      <td>0.659726</td>\n",
       "      <td>0.893599</td>\n",
       "    </tr>\n",
       "  </tbody>\n",
       "</table>\n",
       "</div>"
      ],
      "text/plain": [
       "  index         A         B         C         D         E\n",
       "0     L  0.480328  0.746819  0.008750  0.962353  0.750057\n",
       "1     M  0.055304  0.529850  0.333361  0.442225  0.699968\n",
       "2     N  0.737158  0.636782  0.858335  0.265443  0.249909\n",
       "3     O  0.941004  0.113593  0.222881  0.166813  0.607160\n",
       "4     P  0.035178  0.881748  0.341881  0.632840  0.466332\n",
       "5     Q  0.465565  0.841118  0.123143  0.659726  0.893599"
      ]
     },
     "execution_count": 51,
     "metadata": {},
     "output_type": "execute_result"
    }
   ],
   "source": [
    "new_df"
   ]
  },
  {
   "cell_type": "code",
   "execution_count": 52,
   "metadata": {},
   "outputs": [],
   "source": [
    "new_df1 = new_df.set_index('index')"
   ]
  },
  {
   "cell_type": "code",
   "execution_count": 53,
   "metadata": {},
   "outputs": [
    {
     "data": {
      "text/html": [
       "<div>\n",
       "<style scoped>\n",
       "    .dataframe tbody tr th:only-of-type {\n",
       "        vertical-align: middle;\n",
       "    }\n",
       "\n",
       "    .dataframe tbody tr th {\n",
       "        vertical-align: top;\n",
       "    }\n",
       "\n",
       "    .dataframe thead th {\n",
       "        text-align: right;\n",
       "    }\n",
       "</style>\n",
       "<table border=\"1\" class=\"dataframe\">\n",
       "  <thead>\n",
       "    <tr style=\"text-align: right;\">\n",
       "      <th></th>\n",
       "      <th>A</th>\n",
       "      <th>B</th>\n",
       "      <th>C</th>\n",
       "      <th>D</th>\n",
       "      <th>E</th>\n",
       "    </tr>\n",
       "    <tr>\n",
       "      <th>index</th>\n",
       "      <th></th>\n",
       "      <th></th>\n",
       "      <th></th>\n",
       "      <th></th>\n",
       "      <th></th>\n",
       "    </tr>\n",
       "  </thead>\n",
       "  <tbody>\n",
       "    <tr>\n",
       "      <th>L</th>\n",
       "      <td>0.480328</td>\n",
       "      <td>0.746819</td>\n",
       "      <td>0.008750</td>\n",
       "      <td>0.962353</td>\n",
       "      <td>0.750057</td>\n",
       "    </tr>\n",
       "    <tr>\n",
       "      <th>M</th>\n",
       "      <td>0.055304</td>\n",
       "      <td>0.529850</td>\n",
       "      <td>0.333361</td>\n",
       "      <td>0.442225</td>\n",
       "      <td>0.699968</td>\n",
       "    </tr>\n",
       "    <tr>\n",
       "      <th>N</th>\n",
       "      <td>0.737158</td>\n",
       "      <td>0.636782</td>\n",
       "      <td>0.858335</td>\n",
       "      <td>0.265443</td>\n",
       "      <td>0.249909</td>\n",
       "    </tr>\n",
       "    <tr>\n",
       "      <th>O</th>\n",
       "      <td>0.941004</td>\n",
       "      <td>0.113593</td>\n",
       "      <td>0.222881</td>\n",
       "      <td>0.166813</td>\n",
       "      <td>0.607160</td>\n",
       "    </tr>\n",
       "    <tr>\n",
       "      <th>P</th>\n",
       "      <td>0.035178</td>\n",
       "      <td>0.881748</td>\n",
       "      <td>0.341881</td>\n",
       "      <td>0.632840</td>\n",
       "      <td>0.466332</td>\n",
       "    </tr>\n",
       "    <tr>\n",
       "      <th>Q</th>\n",
       "      <td>0.465565</td>\n",
       "      <td>0.841118</td>\n",
       "      <td>0.123143</td>\n",
       "      <td>0.659726</td>\n",
       "      <td>0.893599</td>\n",
       "    </tr>\n",
       "  </tbody>\n",
       "</table>\n",
       "</div>"
      ],
      "text/plain": [
       "              A         B         C         D         E\n",
       "index                                                  \n",
       "L      0.480328  0.746819  0.008750  0.962353  0.750057\n",
       "M      0.055304  0.529850  0.333361  0.442225  0.699968\n",
       "N      0.737158  0.636782  0.858335  0.265443  0.249909\n",
       "O      0.941004  0.113593  0.222881  0.166813  0.607160\n",
       "P      0.035178  0.881748  0.341881  0.632840  0.466332\n",
       "Q      0.465565  0.841118  0.123143  0.659726  0.893599"
      ]
     },
     "execution_count": 53,
     "metadata": {},
     "output_type": "execute_result"
    }
   ],
   "source": [
    "new_df1"
   ]
  },
  {
   "cell_type": "markdown",
   "metadata": {},
   "source": [
    "# Data Preprocessing (Missing Values)"
   ]
  },
  {
   "cell_type": "code",
   "execution_count": 54,
   "metadata": {},
   "outputs": [
    {
     "data": {
      "text/html": [
       "<div>\n",
       "<style scoped>\n",
       "    .dataframe tbody tr th:only-of-type {\n",
       "        vertical-align: middle;\n",
       "    }\n",
       "\n",
       "    .dataframe tbody tr th {\n",
       "        vertical-align: top;\n",
       "    }\n",
       "\n",
       "    .dataframe thead th {\n",
       "        text-align: right;\n",
       "    }\n",
       "</style>\n",
       "<table border=\"1\" class=\"dataframe\">\n",
       "  <thead>\n",
       "    <tr style=\"text-align: right;\">\n",
       "      <th></th>\n",
       "      <th>A</th>\n",
       "      <th>B</th>\n",
       "      <th>C</th>\n",
       "      <th>D</th>\n",
       "      <th>E</th>\n",
       "    </tr>\n",
       "  </thead>\n",
       "  <tbody>\n",
       "    <tr>\n",
       "      <th>L</th>\n",
       "      <td>0.480328</td>\n",
       "      <td>0.746819</td>\n",
       "      <td>0.008750</td>\n",
       "      <td>0.962353</td>\n",
       "      <td>0.750057</td>\n",
       "    </tr>\n",
       "    <tr>\n",
       "      <th>M</th>\n",
       "      <td>0.055304</td>\n",
       "      <td>0.529850</td>\n",
       "      <td>0.333361</td>\n",
       "      <td>0.442225</td>\n",
       "      <td>0.699968</td>\n",
       "    </tr>\n",
       "    <tr>\n",
       "      <th>N</th>\n",
       "      <td>0.737158</td>\n",
       "      <td>0.636782</td>\n",
       "      <td>0.858335</td>\n",
       "      <td>0.265443</td>\n",
       "      <td>0.249909</td>\n",
       "    </tr>\n",
       "    <tr>\n",
       "      <th>O</th>\n",
       "      <td>0.941004</td>\n",
       "      <td>0.113593</td>\n",
       "      <td>0.222881</td>\n",
       "      <td>0.166813</td>\n",
       "      <td>0.607160</td>\n",
       "    </tr>\n",
       "    <tr>\n",
       "      <th>P</th>\n",
       "      <td>0.035178</td>\n",
       "      <td>0.881748</td>\n",
       "      <td>0.341881</td>\n",
       "      <td>0.632840</td>\n",
       "      <td>0.466332</td>\n",
       "    </tr>\n",
       "    <tr>\n",
       "      <th>Q</th>\n",
       "      <td>0.465565</td>\n",
       "      <td>0.841118</td>\n",
       "      <td>0.123143</td>\n",
       "      <td>0.659726</td>\n",
       "      <td>0.893599</td>\n",
       "    </tr>\n",
       "  </tbody>\n",
       "</table>\n",
       "</div>"
      ],
      "text/plain": [
       "          A         B         C         D         E\n",
       "L  0.480328  0.746819  0.008750  0.962353  0.750057\n",
       "M  0.055304  0.529850  0.333361  0.442225  0.699968\n",
       "N  0.737158  0.636782  0.858335  0.265443  0.249909\n",
       "O  0.941004  0.113593  0.222881  0.166813  0.607160\n",
       "P  0.035178  0.881748  0.341881  0.632840  0.466332\n",
       "Q  0.465565  0.841118  0.123143  0.659726  0.893599"
      ]
     },
     "execution_count": 54,
     "metadata": {},
     "output_type": "execute_result"
    }
   ],
   "source": [
    "df"
   ]
  },
  {
   "cell_type": "code",
   "execution_count": 55,
   "metadata": {},
   "outputs": [],
   "source": [
    "pre_df = df[df > 0.3]"
   ]
  },
  {
   "cell_type": "code",
   "execution_count": 56,
   "metadata": {},
   "outputs": [
    {
     "data": {
      "text/html": [
       "<div>\n",
       "<style scoped>\n",
       "    .dataframe tbody tr th:only-of-type {\n",
       "        vertical-align: middle;\n",
       "    }\n",
       "\n",
       "    .dataframe tbody tr th {\n",
       "        vertical-align: top;\n",
       "    }\n",
       "\n",
       "    .dataframe thead th {\n",
       "        text-align: right;\n",
       "    }\n",
       "</style>\n",
       "<table border=\"1\" class=\"dataframe\">\n",
       "  <thead>\n",
       "    <tr style=\"text-align: right;\">\n",
       "      <th></th>\n",
       "      <th>A</th>\n",
       "      <th>B</th>\n",
       "      <th>C</th>\n",
       "      <th>D</th>\n",
       "      <th>E</th>\n",
       "    </tr>\n",
       "  </thead>\n",
       "  <tbody>\n",
       "    <tr>\n",
       "      <th>L</th>\n",
       "      <td>0.480328</td>\n",
       "      <td>0.746819</td>\n",
       "      <td>NaN</td>\n",
       "      <td>0.962353</td>\n",
       "      <td>0.750057</td>\n",
       "    </tr>\n",
       "    <tr>\n",
       "      <th>M</th>\n",
       "      <td>NaN</td>\n",
       "      <td>0.529850</td>\n",
       "      <td>0.333361</td>\n",
       "      <td>0.442225</td>\n",
       "      <td>0.699968</td>\n",
       "    </tr>\n",
       "    <tr>\n",
       "      <th>N</th>\n",
       "      <td>0.737158</td>\n",
       "      <td>0.636782</td>\n",
       "      <td>0.858335</td>\n",
       "      <td>NaN</td>\n",
       "      <td>NaN</td>\n",
       "    </tr>\n",
       "    <tr>\n",
       "      <th>O</th>\n",
       "      <td>0.941004</td>\n",
       "      <td>NaN</td>\n",
       "      <td>NaN</td>\n",
       "      <td>NaN</td>\n",
       "      <td>0.607160</td>\n",
       "    </tr>\n",
       "    <tr>\n",
       "      <th>P</th>\n",
       "      <td>NaN</td>\n",
       "      <td>0.881748</td>\n",
       "      <td>0.341881</td>\n",
       "      <td>0.632840</td>\n",
       "      <td>0.466332</td>\n",
       "    </tr>\n",
       "    <tr>\n",
       "      <th>Q</th>\n",
       "      <td>0.465565</td>\n",
       "      <td>0.841118</td>\n",
       "      <td>NaN</td>\n",
       "      <td>0.659726</td>\n",
       "      <td>0.893599</td>\n",
       "    </tr>\n",
       "  </tbody>\n",
       "</table>\n",
       "</div>"
      ],
      "text/plain": [
       "          A         B         C         D         E\n",
       "L  0.480328  0.746819       NaN  0.962353  0.750057\n",
       "M       NaN  0.529850  0.333361  0.442225  0.699968\n",
       "N  0.737158  0.636782  0.858335       NaN       NaN\n",
       "O  0.941004       NaN       NaN       NaN  0.607160\n",
       "P       NaN  0.881748  0.341881  0.632840  0.466332\n",
       "Q  0.465565  0.841118       NaN  0.659726  0.893599"
      ]
     },
     "execution_count": 56,
     "metadata": {},
     "output_type": "execute_result"
    }
   ],
   "source": [
    "pre_df"
   ]
  },
  {
   "cell_type": "code",
   "execution_count": 57,
   "metadata": {},
   "outputs": [
    {
     "data": {
      "text/html": [
       "<div>\n",
       "<style scoped>\n",
       "    .dataframe tbody tr th:only-of-type {\n",
       "        vertical-align: middle;\n",
       "    }\n",
       "\n",
       "    .dataframe tbody tr th {\n",
       "        vertical-align: top;\n",
       "    }\n",
       "\n",
       "    .dataframe thead th {\n",
       "        text-align: right;\n",
       "    }\n",
       "</style>\n",
       "<table border=\"1\" class=\"dataframe\">\n",
       "  <thead>\n",
       "    <tr style=\"text-align: right;\">\n",
       "      <th></th>\n",
       "      <th>A</th>\n",
       "      <th>B</th>\n",
       "      <th>C</th>\n",
       "      <th>D</th>\n",
       "      <th>E</th>\n",
       "    </tr>\n",
       "  </thead>\n",
       "  <tbody>\n",
       "  </tbody>\n",
       "</table>\n",
       "</div>"
      ],
      "text/plain": [
       "Empty DataFrame\n",
       "Columns: [A, B, C, D, E]\n",
       "Index: []"
      ]
     },
     "execution_count": 57,
     "metadata": {},
     "output_type": "execute_result"
    }
   ],
   "source": [
    "pre_df.dropna()# dropping any coloumn axis = 1 "
   ]
  },
  {
   "cell_type": "code",
   "execution_count": 58,
   "metadata": {},
   "outputs": [
    {
     "data": {
      "text/html": [
       "<div>\n",
       "<style scoped>\n",
       "    .dataframe tbody tr th:only-of-type {\n",
       "        vertical-align: middle;\n",
       "    }\n",
       "\n",
       "    .dataframe tbody tr th {\n",
       "        vertical-align: top;\n",
       "    }\n",
       "\n",
       "    .dataframe thead th {\n",
       "        text-align: right;\n",
       "    }\n",
       "</style>\n",
       "<table border=\"1\" class=\"dataframe\">\n",
       "  <thead>\n",
       "    <tr style=\"text-align: right;\">\n",
       "      <th></th>\n",
       "      <th>A</th>\n",
       "      <th>B</th>\n",
       "      <th>C</th>\n",
       "      <th>D</th>\n",
       "      <th>E</th>\n",
       "    </tr>\n",
       "  </thead>\n",
       "  <tbody>\n",
       "    <tr>\n",
       "      <th>L</th>\n",
       "      <td>0.480328</td>\n",
       "      <td>0.746819</td>\n",
       "      <td>NaN</td>\n",
       "      <td>0.962353</td>\n",
       "      <td>0.750057</td>\n",
       "    </tr>\n",
       "    <tr>\n",
       "      <th>M</th>\n",
       "      <td>NaN</td>\n",
       "      <td>0.529850</td>\n",
       "      <td>0.333361</td>\n",
       "      <td>0.442225</td>\n",
       "      <td>0.699968</td>\n",
       "    </tr>\n",
       "    <tr>\n",
       "      <th>N</th>\n",
       "      <td>0.737158</td>\n",
       "      <td>0.636782</td>\n",
       "      <td>0.858335</td>\n",
       "      <td>NaN</td>\n",
       "      <td>NaN</td>\n",
       "    </tr>\n",
       "    <tr>\n",
       "      <th>P</th>\n",
       "      <td>NaN</td>\n",
       "      <td>0.881748</td>\n",
       "      <td>0.341881</td>\n",
       "      <td>0.632840</td>\n",
       "      <td>0.466332</td>\n",
       "    </tr>\n",
       "    <tr>\n",
       "      <th>Q</th>\n",
       "      <td>0.465565</td>\n",
       "      <td>0.841118</td>\n",
       "      <td>NaN</td>\n",
       "      <td>0.659726</td>\n",
       "      <td>0.893599</td>\n",
       "    </tr>\n",
       "  </tbody>\n",
       "</table>\n",
       "</div>"
      ],
      "text/plain": [
       "          A         B         C         D         E\n",
       "L  0.480328  0.746819       NaN  0.962353  0.750057\n",
       "M       NaN  0.529850  0.333361  0.442225  0.699968\n",
       "N  0.737158  0.636782  0.858335       NaN       NaN\n",
       "P       NaN  0.881748  0.341881  0.632840  0.466332\n",
       "Q  0.465565  0.841118       NaN  0.659726  0.893599"
      ]
     },
     "execution_count": 58,
     "metadata": {},
     "output_type": "execute_result"
    }
   ],
   "source": [
    "pre_df.dropna(thresh = 3) # less than 3 NaN values"
   ]
  },
  {
   "cell_type": "code",
   "execution_count": 59,
   "metadata": {},
   "outputs": [
    {
     "data": {
      "text/plain": [
       "L    0.750057\n",
       "M    0.699968\n",
       "N         NaN\n",
       "O    0.607160\n",
       "P    0.466332\n",
       "Q    0.893599\n",
       "Name: E, dtype: float64"
      ]
     },
     "execution_count": 59,
     "metadata": {},
     "output_type": "execute_result"
    }
   ],
   "source": [
    "pre_df['E']"
   ]
  },
  {
   "cell_type": "code",
   "execution_count": 60,
   "metadata": {},
   "outputs": [
    {
     "data": {
      "text/plain": [
       "L    0.750057\n",
       "M    0.699968\n",
       "N    0.683423\n",
       "O    0.607160\n",
       "P    0.466332\n",
       "Q    0.893599\n",
       "Name: E, dtype: float64"
      ]
     },
     "execution_count": 60,
     "metadata": {},
     "output_type": "execute_result"
    }
   ],
   "source": [
    "pre_df['E'].fillna(value = pre_df['E'].mean())"
   ]
  },
  {
   "cell_type": "code",
   "execution_count": 61,
   "metadata": {},
   "outputs": [
    {
     "data": {
      "text/html": [
       "<div>\n",
       "<style scoped>\n",
       "    .dataframe tbody tr th:only-of-type {\n",
       "        vertical-align: middle;\n",
       "    }\n",
       "\n",
       "    .dataframe tbody tr th {\n",
       "        vertical-align: top;\n",
       "    }\n",
       "\n",
       "    .dataframe thead th {\n",
       "        text-align: right;\n",
       "    }\n",
       "</style>\n",
       "<table border=\"1\" class=\"dataframe\">\n",
       "  <thead>\n",
       "    <tr style=\"text-align: right;\">\n",
       "      <th></th>\n",
       "      <th>A</th>\n",
       "      <th>B</th>\n",
       "      <th>C</th>\n",
       "      <th>D</th>\n",
       "      <th>E</th>\n",
       "    </tr>\n",
       "  </thead>\n",
       "  <tbody>\n",
       "    <tr>\n",
       "      <th>L</th>\n",
       "      <td>0.480328</td>\n",
       "      <td>0.746819</td>\n",
       "      <td>NaN</td>\n",
       "      <td>0.962353</td>\n",
       "      <td>0.750057</td>\n",
       "    </tr>\n",
       "    <tr>\n",
       "      <th>M</th>\n",
       "      <td>NaN</td>\n",
       "      <td>0.529850</td>\n",
       "      <td>0.333361</td>\n",
       "      <td>0.442225</td>\n",
       "      <td>0.699968</td>\n",
       "    </tr>\n",
       "    <tr>\n",
       "      <th>N</th>\n",
       "      <td>0.737158</td>\n",
       "      <td>0.636782</td>\n",
       "      <td>0.858335</td>\n",
       "      <td>NaN</td>\n",
       "      <td>NaN</td>\n",
       "    </tr>\n",
       "    <tr>\n",
       "      <th>O</th>\n",
       "      <td>0.941004</td>\n",
       "      <td>NaN</td>\n",
       "      <td>NaN</td>\n",
       "      <td>NaN</td>\n",
       "      <td>0.607160</td>\n",
       "    </tr>\n",
       "    <tr>\n",
       "      <th>P</th>\n",
       "      <td>NaN</td>\n",
       "      <td>0.881748</td>\n",
       "      <td>0.341881</td>\n",
       "      <td>0.632840</td>\n",
       "      <td>0.466332</td>\n",
       "    </tr>\n",
       "    <tr>\n",
       "      <th>Q</th>\n",
       "      <td>0.465565</td>\n",
       "      <td>0.841118</td>\n",
       "      <td>NaN</td>\n",
       "      <td>0.659726</td>\n",
       "      <td>0.893599</td>\n",
       "    </tr>\n",
       "  </tbody>\n",
       "</table>\n",
       "</div>"
      ],
      "text/plain": [
       "          A         B         C         D         E\n",
       "L  0.480328  0.746819       NaN  0.962353  0.750057\n",
       "M       NaN  0.529850  0.333361  0.442225  0.699968\n",
       "N  0.737158  0.636782  0.858335       NaN       NaN\n",
       "O  0.941004       NaN       NaN       NaN  0.607160\n",
       "P       NaN  0.881748  0.341881  0.632840  0.466332\n",
       "Q  0.465565  0.841118       NaN  0.659726  0.893599"
      ]
     },
     "execution_count": 61,
     "metadata": {},
     "output_type": "execute_result"
    }
   ],
   "source": [
    "pre_df"
   ]
  },
  {
   "cell_type": "code",
   "execution_count": 62,
   "metadata": {},
   "outputs": [
    {
     "data": {
      "text/html": [
       "<div>\n",
       "<style scoped>\n",
       "    .dataframe tbody tr th:only-of-type {\n",
       "        vertical-align: middle;\n",
       "    }\n",
       "\n",
       "    .dataframe tbody tr th {\n",
       "        vertical-align: top;\n",
       "    }\n",
       "\n",
       "    .dataframe thead th {\n",
       "        text-align: right;\n",
       "    }\n",
       "</style>\n",
       "<table border=\"1\" class=\"dataframe\">\n",
       "  <thead>\n",
       "    <tr style=\"text-align: right;\">\n",
       "      <th></th>\n",
       "      <th>A</th>\n",
       "      <th>B</th>\n",
       "      <th>C</th>\n",
       "      <th>D</th>\n",
       "      <th>E</th>\n",
       "    </tr>\n",
       "  </thead>\n",
       "  <tbody>\n",
       "    <tr>\n",
       "      <th>L</th>\n",
       "      <td>False</td>\n",
       "      <td>False</td>\n",
       "      <td>True</td>\n",
       "      <td>False</td>\n",
       "      <td>False</td>\n",
       "    </tr>\n",
       "    <tr>\n",
       "      <th>M</th>\n",
       "      <td>True</td>\n",
       "      <td>False</td>\n",
       "      <td>False</td>\n",
       "      <td>False</td>\n",
       "      <td>False</td>\n",
       "    </tr>\n",
       "    <tr>\n",
       "      <th>N</th>\n",
       "      <td>False</td>\n",
       "      <td>False</td>\n",
       "      <td>False</td>\n",
       "      <td>True</td>\n",
       "      <td>True</td>\n",
       "    </tr>\n",
       "    <tr>\n",
       "      <th>O</th>\n",
       "      <td>False</td>\n",
       "      <td>True</td>\n",
       "      <td>True</td>\n",
       "      <td>True</td>\n",
       "      <td>False</td>\n",
       "    </tr>\n",
       "    <tr>\n",
       "      <th>P</th>\n",
       "      <td>True</td>\n",
       "      <td>False</td>\n",
       "      <td>False</td>\n",
       "      <td>False</td>\n",
       "      <td>False</td>\n",
       "    </tr>\n",
       "    <tr>\n",
       "      <th>Q</th>\n",
       "      <td>False</td>\n",
       "      <td>False</td>\n",
       "      <td>True</td>\n",
       "      <td>False</td>\n",
       "      <td>False</td>\n",
       "    </tr>\n",
       "  </tbody>\n",
       "</table>\n",
       "</div>"
      ],
      "text/plain": [
       "       A      B      C      D      E\n",
       "L  False  False   True  False  False\n",
       "M   True  False  False  False  False\n",
       "N  False  False  False   True   True\n",
       "O  False   True   True   True  False\n",
       "P   True  False  False  False  False\n",
       "Q  False  False   True  False  False"
      ]
     },
     "execution_count": 62,
     "metadata": {},
     "output_type": "execute_result"
    }
   ],
   "source": [
    "pre_df.isnull()"
   ]
  },
  {
   "cell_type": "code",
   "execution_count": 63,
   "metadata": {},
   "outputs": [
    {
     "data": {
      "text/plain": [
       "A    2\n",
       "B    1\n",
       "C    3\n",
       "D    2\n",
       "E    1\n",
       "dtype: int64"
      ]
     },
     "execution_count": 63,
     "metadata": {},
     "output_type": "execute_result"
    }
   ],
   "source": [
    "pre_df.isnull().sum()"
   ]
  },
  {
   "cell_type": "markdown",
   "metadata": {},
   "source": [
    "# Group BY"
   ]
  },
  {
   "cell_type": "code",
   "execution_count": 64,
   "metadata": {},
   "outputs": [],
   "source": [
    "data = {'Name':['Jai', 'AKS', 'Jai', 'Priya',  \n",
    "                 'Gaurav', 'Anuj', 'Princi', 'Abhi'],   \n",
    "        'Address':['Delhi', 'Kanpur', 'Pune', 'Nagpur', \n",
    "                   'Jaunpur', 'Kanpur', 'Pune', 'Bangalore'],  \n",
    "        'Qualification':['Msc', 'MA', 'MCA', 'Phd', \n",
    "                         'B.Tech', 'B.com', 'Msc', 'M.Tech'],\n",
    "        'Salary':[20000,23000,54000,45000,32000,12000,28000,300000]}"
   ]
  },
  {
   "cell_type": "code",
   "execution_count": 65,
   "metadata": {},
   "outputs": [],
   "source": [
    "df_gr = pd.DataFrame(data)"
   ]
  },
  {
   "cell_type": "code",
   "execution_count": 66,
   "metadata": {},
   "outputs": [
    {
     "data": {
      "text/html": [
       "<div>\n",
       "<style scoped>\n",
       "    .dataframe tbody tr th:only-of-type {\n",
       "        vertical-align: middle;\n",
       "    }\n",
       "\n",
       "    .dataframe tbody tr th {\n",
       "        vertical-align: top;\n",
       "    }\n",
       "\n",
       "    .dataframe thead th {\n",
       "        text-align: right;\n",
       "    }\n",
       "</style>\n",
       "<table border=\"1\" class=\"dataframe\">\n",
       "  <thead>\n",
       "    <tr style=\"text-align: right;\">\n",
       "      <th></th>\n",
       "      <th>Name</th>\n",
       "      <th>Address</th>\n",
       "      <th>Qualification</th>\n",
       "      <th>Salary</th>\n",
       "    </tr>\n",
       "  </thead>\n",
       "  <tbody>\n",
       "    <tr>\n",
       "      <th>0</th>\n",
       "      <td>Jai</td>\n",
       "      <td>Delhi</td>\n",
       "      <td>Msc</td>\n",
       "      <td>20000</td>\n",
       "    </tr>\n",
       "    <tr>\n",
       "      <th>1</th>\n",
       "      <td>AKS</td>\n",
       "      <td>Kanpur</td>\n",
       "      <td>MA</td>\n",
       "      <td>23000</td>\n",
       "    </tr>\n",
       "    <tr>\n",
       "      <th>2</th>\n",
       "      <td>Jai</td>\n",
       "      <td>Pune</td>\n",
       "      <td>MCA</td>\n",
       "      <td>54000</td>\n",
       "    </tr>\n",
       "    <tr>\n",
       "      <th>3</th>\n",
       "      <td>Priya</td>\n",
       "      <td>Nagpur</td>\n",
       "      <td>Phd</td>\n",
       "      <td>45000</td>\n",
       "    </tr>\n",
       "    <tr>\n",
       "      <th>4</th>\n",
       "      <td>Gaurav</td>\n",
       "      <td>Jaunpur</td>\n",
       "      <td>B.Tech</td>\n",
       "      <td>32000</td>\n",
       "    </tr>\n",
       "    <tr>\n",
       "      <th>5</th>\n",
       "      <td>Anuj</td>\n",
       "      <td>Kanpur</td>\n",
       "      <td>B.com</td>\n",
       "      <td>12000</td>\n",
       "    </tr>\n",
       "    <tr>\n",
       "      <th>6</th>\n",
       "      <td>Princi</td>\n",
       "      <td>Pune</td>\n",
       "      <td>Msc</td>\n",
       "      <td>28000</td>\n",
       "    </tr>\n",
       "    <tr>\n",
       "      <th>7</th>\n",
       "      <td>Abhi</td>\n",
       "      <td>Bangalore</td>\n",
       "      <td>M.Tech</td>\n",
       "      <td>300000</td>\n",
       "    </tr>\n",
       "  </tbody>\n",
       "</table>\n",
       "</div>"
      ],
      "text/plain": [
       "     Name    Address Qualification  Salary\n",
       "0     Jai      Delhi           Msc   20000\n",
       "1     AKS     Kanpur            MA   23000\n",
       "2     Jai       Pune           MCA   54000\n",
       "3   Priya     Nagpur           Phd   45000\n",
       "4  Gaurav    Jaunpur        B.Tech   32000\n",
       "5    Anuj     Kanpur         B.com   12000\n",
       "6  Princi       Pune           Msc   28000\n",
       "7    Abhi  Bangalore        M.Tech  300000"
      ]
     },
     "execution_count": 66,
     "metadata": {},
     "output_type": "execute_result"
    }
   ],
   "source": [
    "df_gr"
   ]
  },
  {
   "cell_type": "code",
   "execution_count": 67,
   "metadata": {},
   "outputs": [],
   "source": [
    "gr_add = df_gr.groupby('Address')"
   ]
  },
  {
   "cell_type": "code",
   "execution_count": 68,
   "metadata": {},
   "outputs": [
    {
     "data": {
      "text/html": [
       "<div>\n",
       "<style scoped>\n",
       "    .dataframe tbody tr th:only-of-type {\n",
       "        vertical-align: middle;\n",
       "    }\n",
       "\n",
       "    .dataframe tbody tr th {\n",
       "        vertical-align: top;\n",
       "    }\n",
       "\n",
       "    .dataframe thead th {\n",
       "        text-align: right;\n",
       "    }\n",
       "</style>\n",
       "<table border=\"1\" class=\"dataframe\">\n",
       "  <thead>\n",
       "    <tr style=\"text-align: right;\">\n",
       "      <th></th>\n",
       "      <th>Salary</th>\n",
       "    </tr>\n",
       "    <tr>\n",
       "      <th>Address</th>\n",
       "      <th></th>\n",
       "    </tr>\n",
       "  </thead>\n",
       "  <tbody>\n",
       "    <tr>\n",
       "      <th>Bangalore</th>\n",
       "      <td>300000</td>\n",
       "    </tr>\n",
       "    <tr>\n",
       "      <th>Delhi</th>\n",
       "      <td>20000</td>\n",
       "    </tr>\n",
       "    <tr>\n",
       "      <th>Jaunpur</th>\n",
       "      <td>32000</td>\n",
       "    </tr>\n",
       "    <tr>\n",
       "      <th>Kanpur</th>\n",
       "      <td>17500</td>\n",
       "    </tr>\n",
       "    <tr>\n",
       "      <th>Nagpur</th>\n",
       "      <td>45000</td>\n",
       "    </tr>\n",
       "    <tr>\n",
       "      <th>Pune</th>\n",
       "      <td>41000</td>\n",
       "    </tr>\n",
       "  </tbody>\n",
       "</table>\n",
       "</div>"
      ],
      "text/plain": [
       "           Salary\n",
       "Address          \n",
       "Bangalore  300000\n",
       "Delhi       20000\n",
       "Jaunpur     32000\n",
       "Kanpur      17500\n",
       "Nagpur      45000\n",
       "Pune        41000"
      ]
     },
     "execution_count": 68,
     "metadata": {},
     "output_type": "execute_result"
    }
   ],
   "source": [
    "gr_add.mean()"
   ]
  },
  {
   "cell_type": "code",
   "execution_count": 69,
   "metadata": {},
   "outputs": [
    {
     "data": {
      "text/html": [
       "<div>\n",
       "<style scoped>\n",
       "    .dataframe tbody tr th:only-of-type {\n",
       "        vertical-align: middle;\n",
       "    }\n",
       "\n",
       "    .dataframe tbody tr th {\n",
       "        vertical-align: top;\n",
       "    }\n",
       "\n",
       "    .dataframe thead th {\n",
       "        text-align: right;\n",
       "    }\n",
       "</style>\n",
       "<table border=\"1\" class=\"dataframe\">\n",
       "  <thead>\n",
       "    <tr style=\"text-align: right;\">\n",
       "      <th></th>\n",
       "      <th>Salary</th>\n",
       "    </tr>\n",
       "    <tr>\n",
       "      <th>Address</th>\n",
       "      <th></th>\n",
       "    </tr>\n",
       "  </thead>\n",
       "  <tbody>\n",
       "    <tr>\n",
       "      <th>Bangalore</th>\n",
       "      <td>300000</td>\n",
       "    </tr>\n",
       "    <tr>\n",
       "      <th>Delhi</th>\n",
       "      <td>20000</td>\n",
       "    </tr>\n",
       "    <tr>\n",
       "      <th>Jaunpur</th>\n",
       "      <td>32000</td>\n",
       "    </tr>\n",
       "    <tr>\n",
       "      <th>Kanpur</th>\n",
       "      <td>35000</td>\n",
       "    </tr>\n",
       "    <tr>\n",
       "      <th>Nagpur</th>\n",
       "      <td>45000</td>\n",
       "    </tr>\n",
       "    <tr>\n",
       "      <th>Pune</th>\n",
       "      <td>82000</td>\n",
       "    </tr>\n",
       "  </tbody>\n",
       "</table>\n",
       "</div>"
      ],
      "text/plain": [
       "           Salary\n",
       "Address          \n",
       "Bangalore  300000\n",
       "Delhi       20000\n",
       "Jaunpur     32000\n",
       "Kanpur      35000\n",
       "Nagpur      45000\n",
       "Pune        82000"
      ]
     },
     "execution_count": 69,
     "metadata": {},
     "output_type": "execute_result"
    }
   ],
   "source": [
    "gr_add.sum()"
   ]
  },
  {
   "cell_type": "code",
   "execution_count": 70,
   "metadata": {},
   "outputs": [
    {
     "data": {
      "text/html": [
       "<div>\n",
       "<style scoped>\n",
       "    .dataframe tbody tr th:only-of-type {\n",
       "        vertical-align: middle;\n",
       "    }\n",
       "\n",
       "    .dataframe tbody tr th {\n",
       "        vertical-align: top;\n",
       "    }\n",
       "\n",
       "    .dataframe thead th {\n",
       "        text-align: right;\n",
       "    }\n",
       "</style>\n",
       "<table border=\"1\" class=\"dataframe\">\n",
       "  <thead>\n",
       "    <tr style=\"text-align: right;\">\n",
       "      <th></th>\n",
       "      <th>Name</th>\n",
       "      <th>Qualification</th>\n",
       "      <th>Salary</th>\n",
       "    </tr>\n",
       "    <tr>\n",
       "      <th>Address</th>\n",
       "      <th></th>\n",
       "      <th></th>\n",
       "      <th></th>\n",
       "    </tr>\n",
       "  </thead>\n",
       "  <tbody>\n",
       "    <tr>\n",
       "      <th>Bangalore</th>\n",
       "      <td>Abhi</td>\n",
       "      <td>M.Tech</td>\n",
       "      <td>300000</td>\n",
       "    </tr>\n",
       "    <tr>\n",
       "      <th>Delhi</th>\n",
       "      <td>Jai</td>\n",
       "      <td>Msc</td>\n",
       "      <td>20000</td>\n",
       "    </tr>\n",
       "    <tr>\n",
       "      <th>Jaunpur</th>\n",
       "      <td>Gaurav</td>\n",
       "      <td>B.Tech</td>\n",
       "      <td>32000</td>\n",
       "    </tr>\n",
       "    <tr>\n",
       "      <th>Kanpur</th>\n",
       "      <td>Anuj</td>\n",
       "      <td>MA</td>\n",
       "      <td>23000</td>\n",
       "    </tr>\n",
       "    <tr>\n",
       "      <th>Nagpur</th>\n",
       "      <td>Priya</td>\n",
       "      <td>Phd</td>\n",
       "      <td>45000</td>\n",
       "    </tr>\n",
       "    <tr>\n",
       "      <th>Pune</th>\n",
       "      <td>Princi</td>\n",
       "      <td>Msc</td>\n",
       "      <td>54000</td>\n",
       "    </tr>\n",
       "  </tbody>\n",
       "</table>\n",
       "</div>"
      ],
      "text/plain": [
       "             Name Qualification  Salary\n",
       "Address                                \n",
       "Bangalore    Abhi        M.Tech  300000\n",
       "Delhi         Jai           Msc   20000\n",
       "Jaunpur    Gaurav        B.Tech   32000\n",
       "Kanpur       Anuj            MA   23000\n",
       "Nagpur      Priya           Phd   45000\n",
       "Pune       Princi           Msc   54000"
      ]
     },
     "execution_count": 70,
     "metadata": {},
     "output_type": "execute_result"
    }
   ],
   "source": [
    "gr_add.max()"
   ]
  },
  {
   "cell_type": "code",
   "execution_count": 71,
   "metadata": {},
   "outputs": [
    {
     "data": {
      "text/html": [
       "<div>\n",
       "<style scoped>\n",
       "    .dataframe tbody tr th:only-of-type {\n",
       "        vertical-align: middle;\n",
       "    }\n",
       "\n",
       "    .dataframe tbody tr th {\n",
       "        vertical-align: top;\n",
       "    }\n",
       "\n",
       "    .dataframe thead tr th {\n",
       "        text-align: left;\n",
       "    }\n",
       "\n",
       "    .dataframe thead tr:last-of-type th {\n",
       "        text-align: right;\n",
       "    }\n",
       "</style>\n",
       "<table border=\"1\" class=\"dataframe\">\n",
       "  <thead>\n",
       "    <tr>\n",
       "      <th></th>\n",
       "      <th colspan=\"8\" halign=\"left\">Salary</th>\n",
       "    </tr>\n",
       "    <tr>\n",
       "      <th></th>\n",
       "      <th>count</th>\n",
       "      <th>mean</th>\n",
       "      <th>std</th>\n",
       "      <th>min</th>\n",
       "      <th>25%</th>\n",
       "      <th>50%</th>\n",
       "      <th>75%</th>\n",
       "      <th>max</th>\n",
       "    </tr>\n",
       "    <tr>\n",
       "      <th>Address</th>\n",
       "      <th></th>\n",
       "      <th></th>\n",
       "      <th></th>\n",
       "      <th></th>\n",
       "      <th></th>\n",
       "      <th></th>\n",
       "      <th></th>\n",
       "      <th></th>\n",
       "    </tr>\n",
       "  </thead>\n",
       "  <tbody>\n",
       "    <tr>\n",
       "      <th>Bangalore</th>\n",
       "      <td>1.0</td>\n",
       "      <td>300000.0</td>\n",
       "      <td>NaN</td>\n",
       "      <td>300000.0</td>\n",
       "      <td>300000.0</td>\n",
       "      <td>300000.0</td>\n",
       "      <td>300000.0</td>\n",
       "      <td>300000.0</td>\n",
       "    </tr>\n",
       "    <tr>\n",
       "      <th>Delhi</th>\n",
       "      <td>1.0</td>\n",
       "      <td>20000.0</td>\n",
       "      <td>NaN</td>\n",
       "      <td>20000.0</td>\n",
       "      <td>20000.0</td>\n",
       "      <td>20000.0</td>\n",
       "      <td>20000.0</td>\n",
       "      <td>20000.0</td>\n",
       "    </tr>\n",
       "    <tr>\n",
       "      <th>Jaunpur</th>\n",
       "      <td>1.0</td>\n",
       "      <td>32000.0</td>\n",
       "      <td>NaN</td>\n",
       "      <td>32000.0</td>\n",
       "      <td>32000.0</td>\n",
       "      <td>32000.0</td>\n",
       "      <td>32000.0</td>\n",
       "      <td>32000.0</td>\n",
       "    </tr>\n",
       "    <tr>\n",
       "      <th>Kanpur</th>\n",
       "      <td>2.0</td>\n",
       "      <td>17500.0</td>\n",
       "      <td>7778.174593</td>\n",
       "      <td>12000.0</td>\n",
       "      <td>14750.0</td>\n",
       "      <td>17500.0</td>\n",
       "      <td>20250.0</td>\n",
       "      <td>23000.0</td>\n",
       "    </tr>\n",
       "    <tr>\n",
       "      <th>Nagpur</th>\n",
       "      <td>1.0</td>\n",
       "      <td>45000.0</td>\n",
       "      <td>NaN</td>\n",
       "      <td>45000.0</td>\n",
       "      <td>45000.0</td>\n",
       "      <td>45000.0</td>\n",
       "      <td>45000.0</td>\n",
       "      <td>45000.0</td>\n",
       "    </tr>\n",
       "    <tr>\n",
       "      <th>Pune</th>\n",
       "      <td>2.0</td>\n",
       "      <td>41000.0</td>\n",
       "      <td>18384.776311</td>\n",
       "      <td>28000.0</td>\n",
       "      <td>34500.0</td>\n",
       "      <td>41000.0</td>\n",
       "      <td>47500.0</td>\n",
       "      <td>54000.0</td>\n",
       "    </tr>\n",
       "  </tbody>\n",
       "</table>\n",
       "</div>"
      ],
      "text/plain": [
       "          Salary                                                        \\\n",
       "           count      mean           std       min       25%       50%   \n",
       "Address                                                                  \n",
       "Bangalore    1.0  300000.0           NaN  300000.0  300000.0  300000.0   \n",
       "Delhi        1.0   20000.0           NaN   20000.0   20000.0   20000.0   \n",
       "Jaunpur      1.0   32000.0           NaN   32000.0   32000.0   32000.0   \n",
       "Kanpur       2.0   17500.0   7778.174593   12000.0   14750.0   17500.0   \n",
       "Nagpur       1.0   45000.0           NaN   45000.0   45000.0   45000.0   \n",
       "Pune         2.0   41000.0  18384.776311   28000.0   34500.0   41000.0   \n",
       "\n",
       "                               \n",
       "                75%       max  \n",
       "Address                        \n",
       "Bangalore  300000.0  300000.0  \n",
       "Delhi       20000.0   20000.0  \n",
       "Jaunpur     32000.0   32000.0  \n",
       "Kanpur      20250.0   23000.0  \n",
       "Nagpur      45000.0   45000.0  \n",
       "Pune        47500.0   54000.0  "
      ]
     },
     "execution_count": 71,
     "metadata": {},
     "output_type": "execute_result"
    }
   ],
   "source": [
    "gr_add.describe()"
   ]
  },
  {
   "cell_type": "markdown",
   "metadata": {},
   "source": [
    "# THANK YOU"
   ]
  },
  {
   "cell_type": "code",
   "execution_count": null,
   "metadata": {},
   "outputs": [],
   "source": []
  }
 ],
 "metadata": {
  "kernelspec": {
   "display_name": "Python 3",
   "language": "python",
   "name": "python3"
  },
  "language_info": {
   "codemirror_mode": {
    "name": "ipython",
    "version": 3
   },
   "file_extension": ".py",
   "mimetype": "text/x-python",
   "name": "python",
   "nbconvert_exporter": "python",
   "pygments_lexer": "ipython3",
   "version": "3.7.6"
  }
 },
 "nbformat": 4,
 "nbformat_minor": 4
}
